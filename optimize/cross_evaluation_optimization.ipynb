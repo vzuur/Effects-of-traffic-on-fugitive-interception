{
 "cells": [
  {
   "cell_type": "code",
   "execution_count": 38,
   "id": "initial_id",
   "metadata": {
    "collapsed": true,
    "ExecuteTime": {
     "end_time": "2024-06-13T13:29:48.837928200Z",
     "start_time": "2024-06-13T13:29:48.789787300Z"
    }
   },
   "outputs": [],
   "source": [
    "import pickle\n",
    "import numpy as np\n",
    "import osmnx as ox\n",
    "import networkx as nx\n",
    "import seaborn as sns\n",
    "import matplotlib.pyplot as plt\n",
    "\n",
    "import logging\n",
    "logging.getLogger('matplotlib.font_manager').setLevel(logging.ERROR)\n",
    "from sort_and_filter import sort_and_filter_pol_fug_city as sort_and_filter_nodes"
   ]
  },
  {
   "cell_type": "code",
   "execution_count": 39,
   "outputs": [],
   "source": [
    "# def get_intercepted_routes(route_fugitive, tau_uv, results_positions):\n",
    "#     z_r = {}\n",
    "#     pi_nodes = []\n",
    "#\n",
    "#     for u, value in enumerate(results_positions):\n",
    "#         # associated_node = labels_sorted_inv[int(u)][int(np.floor(value))]\n",
    "#         pi_nodes.append(results_positions[u])\n",
    "#\n",
    "#     for i_r, _ in enumerate(route_fugitive):\n",
    "#         z_r[i_r] = 0\n",
    "#\n",
    "#     for i_r, r in enumerate(route_fugitive):  # for each route\n",
    "#         if any([node in pi_nodes for node in r.values()]):\n",
    "#             for u, pi in enumerate(pi_nodes):  # for each police unit\n",
    "#                 for time_at_node_fugitive, node_fugitive in r.items():  # for each node in the fugitive route\n",
    "#                     if node_fugitive == pi:  # if the fugitive node is the same as the target node of the police unit\n",
    "#                         if time_at_node_fugitive > tau_uv[u, node_fugitive]:  # and the police unit can reach that node\n",
    "#                             z_r[i_r] = 1  # intercepted\n",
    "#\n",
    "#     return float(sum(z_r.values()))\n",
    "\n",
    "def get_intercepted_routes(route_fugitive, results_positions):\n",
    "    z_r = {}\n",
    "    pi_nodes = {}\n",
    "\n",
    "    for u, value in enumerate(results_positions):\n",
    "        pi_nodes[u] = value  # results_positions[u] wordt de waarde voor sleutel u\n",
    "\n",
    "    for i_r, _ in enumerate(route_fugitive):\n",
    "        z_r[i_r] = 0\n",
    "\n",
    "    for i_r, r in enumerate(route_fugitive):  # voor elke route\n",
    "        if any(node in pi_nodes.values() for node in r.values()):  # controleer of een node in pi_nodes aanwezig is\n",
    "            for u, pi in pi_nodes.items():  # voor elke politie-eenheid\n",
    "                for time_at_node_fugitive, node_fugitive in r.items():  # voor elke node in de vluchtroute\n",
    "                    if node_fugitive == pi:  # als de vluchtnode dezelfde is als de target node van de politie-eenheid\n",
    "                        if time_at_node_fugitive > 0:  # aangenomen dat tijd altijd groter is dan 0\n",
    "                            z_r[i_r] = 1  # onderschept\n",
    "    return float(sum(z_r.values()))\n",
    "\n",
    "\n"
   ],
   "metadata": {
    "collapsed": false,
    "ExecuteTime": {
     "end_time": "2024-06-13T13:29:50.330674400Z",
     "start_time": "2024-06-13T13:29:50.311734700Z"
    }
   },
   "id": "961c14abfb9202f1"
  },
  {
   "cell_type": "code",
   "execution_count": 40,
   "outputs": [],
   "source": [
    "def get_intercepted_routes(route_fugitive_labeled, police_start, graph, labels_full_sorted, labels_sorted_inv, results_positions):\n",
    "    z_r = {}\n",
    "    pi_nodes = {}\n",
    "\n",
    "    for u, value in enumerate(results_positions):\n",
    "        # associated_node = labels_sorted_inv[int(u)][int(np.floor(value))]\n",
    "        associated_node = value\n",
    "        travel_time_to_target = nx.shortest_path_length(graph,\n",
    "                                                        source=police_start[u],\n",
    "                                                        target=associated_node,\n",
    "                                                        weight='police_travel_time') #of _traffic\n",
    "        # associated_node = labels_full_sorted[associated_node]\n",
    "        pi_nodes[u] = (associated_node, travel_time_to_target)\n",
    "\n",
    "    for i_r, _ in enumerate(route_fugitive_labeled):\n",
    "        z_r[i_r] = 0\n",
    "\n",
    "    for i_r, r in enumerate(route_fugitive_labeled):  # for each route\n",
    "        if any([node in [p[0] for p in pi_nodes.values()] for node in r.values()]):\n",
    "        #if any([node in pi_nodes.values() for node in r.values()]):\n",
    "            for u, pi in pi_nodes.items():  # for each police unit\n",
    "                for time_at_node_fugitive, node_fugitive in r.items():  # for each node in the fugitive route\n",
    "                    if node_fugitive == pi[0]:  # if the fugitive node is the same as the target node of the police unit\n",
    "                        if time_at_node_fugitive > pi[1]:  # and the police unit can reach that node\n",
    "                            z_r[i_r] = 1  # intercepted\n",
    "\n",
    "    # print(sum(z_r.values())/500)\n",
    "\n",
    "    # for r in range(len(route_fugitive_labeled)):\n",
    "    #     z_r[r] = sum(sum(sum(pi_uv[u, v] * phi_rt[r, t, v] * tau_uv[u, t, v] for v in labels_full_sorted.values()) for u in range(U)) for t in range(run_length))\n",
    "\n",
    "    return z_r"
   ],
   "metadata": {
    "collapsed": false,
    "ExecuteTime": {
     "end_time": "2024-06-13T13:29:58.822058200Z",
     "start_time": "2024-06-13T13:29:58.803109700Z"
    }
   }
  },
  {
   "cell_type": "code",
   "execution_count": 41,
   "outputs": [],
   "source": [
    "iteration_dicts = [{'mode': 'cool', 'jitter': 0.02, 'location':'centre', 'number_units':'2'},\n",
    "                   {'mode': 'cool', 'jitter': 0.02, 'location':'centre', 'number_units':'4'},\n",
    "                   {'mode': 'cool', 'jitter': 0.02, 'location':'port', 'number_units':'2'},\n",
    "                   {'mode': 'cool', 'jitter': 0.02, 'location':'port', 'number_units':'4'},\n",
    "                 #  {'mode': 'cool', 'jitter': 0.05},\n",
    "                  # {'mode': 'hot', 'jitter': 0.05},\n",
    "                  # {'mode': 'hot', 'jitter': 0.1},\n",
    "                   # {'mode': 'hot', 'jitter': 0.15},\n",
    "                  # {'mode': 'hot+cool', 'jitter': 0.05},  # hier niet jitter doen maar echt alles samen doen\n",
    "                   ]"
   ],
   "metadata": {
    "collapsed": false,
    "ExecuteTime": {
     "end_time": "2024-06-13T13:30:01.207752900Z",
     "start_time": "2024-06-13T13:30:01.198256700Z"
    }
   },
   "id": "903bb78a23719013"
  },
  {
   "cell_type": "code",
   "execution_count": 42,
   "outputs": [],
   "source": [
    "labels = ['cool, jitter=0.02, center, 2', 'cool, jitter=0.02, center, 4', 'cool, jitter=0.02, port, 2', 'cool, jitter=0.02, port, 4']  #, 'hot+cool, jitter=0.05'\n",
    "#labels = ['cool, jitter=0.02', 'cool, jitter=0.05', 'hot, jitter=0.05', 'hot, jitter=0.1', 'hot, jitter=0.15', 'hot+cool'] #, 'hot+cool,jitter=0.05'"
   ],
   "metadata": {
    "collapsed": false,
    "ExecuteTime": {
     "end_time": "2024-06-13T13:30:02.485057700Z",
     "start_time": "2024-06-13T13:30:02.471092800Z"
    }
   },
   "id": "4c919e8e889cd868"
  },
  {
   "cell_type": "code",
   "execution_count": 43,
   "outputs": [],
   "source": [
    "city = 'Rotterdam'\n",
    "# mode = 'cool'\n",
    "# jitter = 0.02\n",
    "\n",
    "filepath = f\"../graphs/{city}.graph.graphml\"\n",
    "G = ox.load_graphml(filepath=filepath)"
   ],
   "metadata": {
    "collapsed": false,
    "ExecuteTime": {
     "end_time": "2024-06-13T13:30:09.231591Z",
     "start_time": "2024-06-13T13:30:05.479224500Z"
    }
   },
   "id": "342bc936a148b462"
  },
  {
   "cell_type": "code",
   "execution_count": null,
   "outputs": [],
   "source": [
    "scores = np.zeros((len(iteration_dicts), len(iteration_dicts)))\n",
    "\n",
    "for j in range(len(iteration_dicts)):\n",
    "    for i in range(len(iteration_dicts)):\n",
    "        mode_opt = iteration_dicts[i]['mode']\n",
    "        jitter_opt = iteration_dicts[i]['jitter']\n",
    "        location_opt = iteration_dicts[i]['location']\n",
    "        number_units_opt = iteration_dicts[i]['number_units']\n",
    "        mode_eval = iteration_dicts[j]['mode']\n",
    "        jitter_eval = iteration_dicts[j]['jitter']\n",
    "        location_eval = iteration_dicts[j]['location']\n",
    "        number_units_eval = iteration_dicts[j]['number_units']\n",
    "\n",
    "        # import fugitive routes\n",
    "        if mode_eval == 'hot+cool':\n",
    "            results_routes = []\n",
    "            with open(f'../data/results_routes_hot_{city}_jitter{0.05}.pkl', 'rb') as f:\n",
    "                results_routes_hot = pickle.load(f)\n",
    "                results_routes += results_routes_hot\n",
    "            with open(f'../data/results_routes_hot_{city}_jitter{0.1}.pkl', 'rb') as f:\n",
    "                results_routes_hot = pickle.load(f)\n",
    "                results_routes += results_routes_hot\n",
    "            with open(f'../data/results_routes_cool_{city}_jitter{0.02}.pkl', 'rb') as f:\n",
    "                results_routes_cool = pickle.load(f)\n",
    "                results_routes += results_routes_cool\n",
    "            with open(f'../data/results_routes_cool_{city}_jitter{0.05}.pkl', 'rb') as f:\n",
    "                results_routes_cool = pickle.load(f)\n",
    "                results_routes += results_routes_cool\n",
    "        else:\n",
    "            with open(f'../data/results_routes_{mode_eval}_{city}_jitter{jitter_eval}_{location_eval}_withtraffic.pkl', 'rb') as f:\n",
    "                results_routes = pickle.load(f)\n",
    "\n",
    "        # import police routes\n",
    "        with open(f'../data/optimization/start_police_{city}_{number_units_eval}.pkl', 'rb') as f:\n",
    "            police_start = pickle.load(f)\n",
    "        with open(f'../data/optimization/delays_police_{city}_{number_units_eval}.pkl', 'rb') as f:\n",
    "            delays = pickle.load(f)\n",
    "        if mode_opt == 'hot+cool':\n",
    "            with open(f'../results/optimization/results_positions_{mode_opt}_{city}_{location_opt}_{number_units_opt}.pkl', 'rb') as f:\n",
    "                police_end = pickle.load(f)\n",
    "        else:\n",
    "            with open(f'../results/optimization/results_positions_{mode_opt}_{city}_jitter{jitter_opt}_{location_opt}_{number_units_opt}.pkl', 'rb') as f:\n",
    "                police_end = pickle.load(f)\n",
    "\n",
    "        # create tau_uv (only the part you need)\n",
    "        # tau_uv = {u: ox.shortest_path_length(G, police_start[u], police_end[u]) for u, _ in enumerate(police_start)}\n",
    "        #tau_uv = {(u, police_end[u]): nx.shortest_path_length(G, police_start[u], police_end[u], weight='police_travel_time') + #delays[u] for u, _ in enumerate(police_start)}\n",
    "\n",
    "        labels_perunit_sorted, labels_perunit_inv_sorted, labels_full_sorted = sort_and_filter_nodes(G,\n",
    "                                                                                             [list(route.values()) for route in results_routes][0][0],\n",
    "                                                                                             results_routes,\n",
    "                                                                                             police_start,\n",
    "                                                                                             1800)\n",
    "\n",
    "        # score = get_intercepted_routes(results_routes, police_end) #op 2e plaats eerst tau_uv\n",
    "        score = get_intercepted_routes(results_routes, police_start, G, labels_full_sorted, labels_perunit_inv_sorted, police_end)\n",
    "        if mode_eval == 'hot+cool':\n",
    "            score = score/4\n",
    "        # i: opt model, j: eval model\n",
    "        scores[i][j] = score\n",
    "\n",
    "        # print(mode_opt, jitter_opt, '-', mode_eval, jitter_eval)\n",
    "        print(score)"
   ],
   "metadata": {
    "collapsed": false,
    "is_executing": true,
    "ExecuteTime": {
     "start_time": "2024-06-12T10:35:41.523682100Z"
    }
   },
   "id": "68c126988af5857c"
  },
  {
   "cell_type": "code",
   "execution_count": 50,
   "outputs": [
    {
     "data": {
      "text/plain": "'cool'"
     },
     "execution_count": 50,
     "metadata": {},
     "output_type": "execute_result"
    }
   ],
   "source": [
    "mode_opt"
   ],
   "metadata": {
    "collapsed": false,
    "ExecuteTime": {
     "end_time": "2024-05-02T12:57:42.567718600Z",
     "start_time": "2024-05-02T12:57:42.512352200Z"
    }
   },
   "id": "fc9270f39f0a9580"
  },
  {
   "cell_type": "code",
   "execution_count": 37,
   "outputs": [
    {
     "data": {
      "text/plain": "array([[0., 0., 0., 0.],\n       [0., 0., 0., 0.],\n       [0., 0., 0., 0.],\n       [0., 0., 0., 0.]])"
     },
     "execution_count": 37,
     "metadata": {},
     "output_type": "execute_result"
    }
   ],
   "source": [
    "# scores = np.delete(scores, 5, 1)\n",
    "scores"
   ],
   "metadata": {
    "collapsed": false,
    "ExecuteTime": {
     "end_time": "2024-06-13T13:14:17.590923200Z",
     "start_time": "2024-06-13T13:14:17.573967500Z"
    }
   },
   "id": "2d2a9e70ad55363d"
  },
  {
   "cell_type": "code",
   "execution_count": 52,
   "outputs": [
    {
     "name": "stderr",
     "output_type": "stream",
     "text": [
      "C:\\Users\\Veerle\\anaconda3\\lib\\site-packages\\ipykernel_launcher.py:4: RuntimeWarning: invalid value encountered in true_divide\n",
      "  after removing the cwd from sys.path.\n"
     ]
    },
    {
     "data": {
      "text/plain": "array([[nan]])"
     },
     "execution_count": 52,
     "metadata": {},
     "output_type": "execute_result"
    }
   ],
   "source": [
    "for i in range(len(iteration_dicts)):\n",
    "    row = scores[i]\n",
    "    diag = scores[i][i]\n",
    "    scores[i] = (scores[i]-diag)/diag\n",
    "    \n",
    "# with open(f'../results/optimization/results_optimization_hot+cool_{city}_jitter{0.05}.pkl', 'rb') as f:\n",
    "#     results = pickle.load(f)\n",
    "# score_hot_cool = results['pct_intercepted']\n",
    "# scores[5] = (scores[5]-score_hot_cool)/score_hot_cool\n",
    "\n",
    "scores"
   ],
   "metadata": {
    "collapsed": false,
    "ExecuteTime": {
     "end_time": "2024-05-02T12:57:43.451528400Z",
     "start_time": "2024-05-02T12:57:43.426778700Z"
    }
   },
   "id": "49b24826c4aab91e"
  },
  {
   "cell_type": "code",
   "execution_count": 75,
   "outputs": [
    {
     "data": {
      "text/plain": "<Figure size 432x288 with 1 Axes>",
      "image/png": "[encoded data removed]"
     },
     "metadata": {},
     "output_type": "display_data"
    }
   ],
   "source": [
    "sns.heatmap(scores, cmap='Greens', annot=True, fmt=\".1f\", xticklabels=labels, yticklabels=labels, linewidths=0.05, center=0, cbar=False)\n",
    "plt.ylabel('Optimization model')\n",
    "plt.xlabel('Evaluation model')\n",
    "plt.savefig(f'heatmap_{city}.png', bbox_inches='tight', dpi=300)"
   ],
   "metadata": {
    "collapsed": false,
    "ExecuteTime": {
     "end_time": "2024-04-18T10:58:23.366071400Z",
     "start_time": "2024-04-18T10:58:23.179082900Z"
    }
   },
   "id": "f1d1841fcdaff58a"
  },
  {
   "cell_type": "code",
   "execution_count": 76,
   "outputs": [
    {
     "data": {
      "text/plain": "<Figure size 432x288 with 1 Axes>",
      "image/png": "[encoded data removed]"
     },
     "metadata": {},
     "output_type": "display_data"
    }
   ],
   "source": [
    "cmap = sns.diverging_palette(0, 255, sep=20, as_cmap=True)\n",
    "sns.heatmap(scores, cmap=cmap, center=0, annot=True, fmt=\".1f\", xticklabels=labels, yticklabels=labels, linewidths=0.05, cbar=False)\n",
    "plt.ylabel('Optimization model')\n",
    "plt.xlabel('Evaluation model')\n",
    "plt.savefig(f'heatmap_{city}_divpalette.png', bbox_inches='tight', dpi=300)"
   ],
   "metadata": {
    "collapsed": false,
    "ExecuteTime": {
     "end_time": "2024-04-18T10:58:23.562510200Z",
     "start_time": "2024-04-18T10:58:23.366071400Z"
    }
   },
   "id": "7b20a8e128286c47"
  },
  {
   "cell_type": "code",
   "execution_count": 77,
   "outputs": [],
   "source": [
    "# # cmap = sns.diverging_palette(0, 255, sep=8, as_cmap=True)\n",
    "# sns.heatmap(scores, cmap=\"PRGn\", center=-0.1, annot=True, fmt=\".1f\", xticklabels=labels, yticklabels=labels, linewidths=0.05, cbar=False)\n",
    "# plt.ylabel('Optimization model')\n",
    "# plt.xlabel('Evaluation model')\n",
    "# plt.savefig(f'heatmap_{city}_divpalette.png', bbox_inches='tight', dpi=300)"
   ],
   "metadata": {
    "collapsed": false,
    "ExecuteTime": {
     "end_time": "2024-04-18T10:58:23.570528500Z",
     "start_time": "2024-04-18T10:58:23.562510200Z"
    }
   },
   "id": "2d46595657f0579d"
  },
  {
   "cell_type": "code",
   "execution_count": 77,
   "outputs": [],
   "source": [],
   "metadata": {
    "collapsed": false,
    "ExecuteTime": {
     "end_time": "2024-04-18T10:58:23.609065900Z",
     "start_time": "2024-04-18T10:58:23.570528500Z"
    }
   },
   "id": "e12c25a791a0992e"
  }
 ],
 "metadata": {
  "kernelspec": {
   "display_name": "Python 3",
   "language": "python",
   "name": "python3"
  },
  "language_info": {
   "codemirror_mode": {
    "name": "ipython",
    "version": 2
   },
   "file_extension": ".py",
   "mimetype": "text/x-python",
   "name": "python",
   "nbconvert_exporter": "python",
   "pygments_lexer": "ipython2",
   "version": "2.7.6"
  }
 },
 "nbformat": 4,
 "nbformat_minor": 5
}
