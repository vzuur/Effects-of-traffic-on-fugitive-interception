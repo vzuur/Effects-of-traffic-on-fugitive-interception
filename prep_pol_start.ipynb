{
 "cells": [
  {
   "cell_type": "code",
   "execution_count": 1,
   "id": "initial_id",
   "metadata": {
    "collapsed": true,
    "ExecuteTime": {
     "end_time": "2024-03-19T17:07:44.238739Z",
     "start_time": "2024-03-19T17:07:43.569271400Z"
    }
   },
   "outputs": [],
   "source": [
    "import pickle\n",
    "import numpy as np\n",
    "import osmnx as ox"
   ]
  },
  {
   "cell_type": "code",
   "execution_count": 14,
   "outputs": [],
   "source": [
    "# Utrecht\n",
    "city = 'Utrecht'\n",
    "\n",
    "filepath = f\"graphs/{city}.graph.graphml\"\n",
    "G = ox.load_graphml(filepath=filepath)\n",
    "\n",
    "police_addresses = [{'lat': 52.09480988724321, 'lon': 5.112300488054929},  # 'Kroonstraat 25, Utrecht',\n",
    "                    {'lat': 52.106435888123734, 'lon': 5.081021768548001},  # 'Schaverijstraat 3, Utrecht',\n",
    "                    {'lat': 52.11657425557721, 'lon': 5.106787541127556},  # 'Kaap Hoorndreef 3, Utrecht',\n",
    "                    {'lat': 52.077098634761406, 'lon': 5.123281701661107}, # 'Briljantlaan 3, Utrecht',\n",
    "                    {'lat': 52.07221414683985, 'lon': 5.0946141119890545} # 'Marco Pololaan 6, Utrecht'\n",
    "                    ]\n",
    "\n",
    "police_stations = []\n",
    "for pol in police_addresses:\n",
    "    node = ox.nearest_nodes(G, pol['lon'], pol['lat'])\n",
    "    police_stations.append(node)\n",
    "    \n",
    "with open(f'data/optimization/start_police_{city}.pkl', 'wb') as f:\n",
    "    pickle.dump(police_stations, f)\n",
    "    \n",
    "delays = [0, 0, 0, 0, 0]\n",
    "with open(f'data/optimization/delays_police_{city}.pkl', 'wb') as f:\n",
    "    pickle.dump(delays, f)"
   ],
   "metadata": {
    "collapsed": false,
    "ExecuteTime": {
     "end_time": "2024-03-15T17:34:04.796359Z",
     "start_time": "2024-03-15T17:34:03.616479Z"
    }
   },
   "id": "9dd9d2cfbc10833b"
  },
  {
   "cell_type": "code",
   "execution_count": 3,
   "outputs": [],
   "source": [
    "# Winterswijk\n",
    "city = 'Winterswijk'\n",
    "\n",
    "filepath = f\"graphs/{city}.graph.graphml\"\n",
    "G = ox.load_graphml(filepath=filepath)\n",
    "\n",
    "police_addresses = [{'lat': 51.96730689392284, 'lon': 6.717868176220198},  # Dingstraat 38\n",
    "                    # {'lat': 51.96730689392284, 'lon': 6.717868176220198},  # Dingstraat 38\n",
    "                    # {'lat': 51.96730689392284, 'lon': 6.717868176220198},  # Dingstraat 38\n",
    "                    {'lat': 51.93473914644306, 'lon': 6.808688143805569},  # Duitsland Oost\n",
    "                    {'lat': 52.03601213823647, 'lon': 6.822783925913308},  # Duitsland Noord\n",
    "                    ]\n",
    "\n",
    "police_stations = []\n",
    "for pol in police_addresses:\n",
    "    node = ox.nearest_nodes(G, pol['lon'], pol['lat'])\n",
    "    police_stations.append(node)\n",
    "    \n",
    "with open(f'data/optimization/start_police_{city}.pkl', 'wb') as f:\n",
    "    pickle.dump(police_stations, f)\n",
    "    \n",
    "delays = [0, 420, 120]\n",
    "with open(f'data/optimization/delays_police_{city}.pkl', 'wb') as f:\n",
    "    pickle.dump(delays, f)"
   ],
   "metadata": {
    "collapsed": false,
    "ExecuteTime": {
     "end_time": "2024-03-19T23:03:31.990604100Z",
     "start_time": "2024-03-19T23:03:31.286890400Z"
    }
   },
   "id": "d6d8fb3df030c7c4"
  },
  {
   "cell_type": "code",
   "execution_count": 16,
   "outputs": [],
   "source": [
    "# Manhattan\n",
    "city = 'Manhattan'\n",
    "\n",
    "filepath = f\"graphs/{city}.graph.graphml\"\n",
    "G = ox.load_graphml(filepath=filepath)\n",
    "\n",
    "police_addresses = [{'lat': 40.75670564515611, 'lon': -73.97082852600276},  # 51st & 3rd\n",
    "                    {'lat': 40.74287247577036, 'lon': -73.99856976473754},  # 20th & 7th\n",
    "                    {'lat': 40.72638720293323, 'lon': -73.98796587163713},  # 5th & 2nd\n",
    "                    {'lat': 40.712326498711, 'lon': -74.00093381696188},  # Madison\n",
    "                    {'lat': 40.71627379693516, 'lon': -73.98401898908662},  # Broome & Pitt\n",
    "                    ]\n",
    "\n",
    "police_stations = []\n",
    "for pol in police_addresses:\n",
    "    node = ox.nearest_nodes(G, pol['lon'], pol['lat'])\n",
    "    police_stations.append(node)\n",
    "    \n",
    "with open(f'data/optimization/start_police_{city}.pkl', 'wb') as f:\n",
    "    pickle.dump(police_stations, f)"
   ],
   "metadata": {
    "collapsed": false,
    "ExecuteTime": {
     "end_time": "2024-03-15T17:34:06.568025700Z",
     "start_time": "2024-03-15T17:34:05.462184900Z"
    }
   },
   "id": "43a12ba34281877a"
  },
  {
   "cell_type": "code",
   "execution_count": null,
   "outputs": [],
   "source": [],
   "metadata": {
    "collapsed": false
   },
   "id": "ecca591bfdbea1b2"
  }
 ],
 "metadata": {
  "kernelspec": {
   "display_name": "Python 3",
   "language": "python",
   "name": "python3"
  },
  "language_info": {
   "codemirror_mode": {
    "name": "ipython",
    "version": 2
   },
   "file_extension": ".py",
   "mimetype": "text/x-python",
   "name": "python",
   "nbconvert_exporter": "python",
   "pygments_lexer": "ipython2",
   "version": "2.7.6"
  }
 },
 "nbformat": 4,
 "nbformat_minor": 5
}
