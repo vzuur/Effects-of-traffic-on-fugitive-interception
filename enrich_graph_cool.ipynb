{
 "cells": [
  {
   "cell_type": "code",
   "execution_count": 11,
   "id": "initial_id",
   "metadata": {
    "collapsed": true,
    "ExecuteTime": {
     "end_time": "2024-07-08T12:06:45.177412800Z",
     "start_time": "2024-07-08T12:06:45.114378500Z"
    }
   },
   "outputs": [],
   "source": [
    "import networkx as nx\n",
    "import numpy as np\n",
    "import string\n",
    "import matplotlib.pyplot as plt\n",
    "import osmnx as ox\n",
    "import pandas as pd\n",
    "import pickle"
   ]
  },
  {
   "cell_type": "code",
   "execution_count": 12,
   "outputs": [],
   "source": [
    "#city = 'Utrecht'\n",
    "#city_str = 'Utrecht, Netherlands'\n",
    "#dist = 6500\n",
    "\n",
    "city = 'Rotterdam'\n",
    "city_str = 'Rotterdam, Netherlands'\n",
    "dist = 8000\n",
    "locations = ['centre','port']"
   ],
   "metadata": {
    "collapsed": false,
    "ExecuteTime": {
     "end_time": "2024-07-08T12:06:46.186936900Z",
     "start_time": "2024-07-08T12:06:46.099398100Z"
    }
   },
   "id": "93f0c50765e9882f"
  },
  {
   "cell_type": "code",
   "execution_count": 13,
   "outputs": [],
   "source": [
    "filepath=f\"./graphs/{city}.graph.graphml\"\n",
    "# ox.save_graph_geopackage(G, filepath=filepath)\n",
    "G = ox.load_graphml(filepath=filepath)\n",
    "\n",
    "with open(f'./data/escape_nodes_{city}.pkl', 'rb') as f:\n",
    "    escape_nodes = pickle.load(f)\n",
    "\n",
    "for location in locations:\n",
    "    with open(f'./data/fugitive_start_{city}_{location}.pkl', 'rb') as f:\n",
    "        fugitive_start = pickle.load(f)\n",
    "\n",
    "if city != 'Winterswijk':\n",
    "    with open(f'./data/cameras_{city}.pkl', 'rb') as f:\n",
    "        cameras = pickle.load(f)\n",
    "elif city == 'Winterswijk':\n",
    "    cameras = []"
   ],
   "metadata": {
    "collapsed": false,
    "ExecuteTime": {
     "end_time": "2024-07-08T12:06:55.259401900Z",
     "start_time": "2024-07-08T12:06:48.146921800Z"
    }
   },
   "id": "e883be28c429a37e"
  },
  {
   "cell_type": "code",
   "execution_count": 14,
   "outputs": [
    {
     "data": {
      "text/plain": "150"
     },
     "execution_count": 14,
     "metadata": {},
     "output_type": "execute_result"
    }
   ],
   "source": [
    "len(escape_nodes)"
   ],
   "metadata": {
    "collapsed": false,
    "ExecuteTime": {
     "end_time": "2024-07-08T12:06:55.288256300Z",
     "start_time": "2024-07-08T12:06:55.266768700Z"
    }
   },
   "id": "770b2adc09bb4559"
  },
  {
   "cell_type": "code",
   "execution_count": 15,
   "outputs": [],
   "source": [
    "escape_nodes_filtered = []\n",
    "for escape_node in escape_nodes:\n",
    "    if G.has_node(escape_node):\n",
    "        escape_nodes_filtered.append(escape_node)\n",
    "\n",
    "with open('data/escape_nodes_{city}_filtered.pkl', 'wb') as f:\n",
    "    pickle.dump(escape_nodes_filtered, f)"
   ],
   "metadata": {
    "collapsed": false,
    "ExecuteTime": {
     "end_time": "2024-07-08T12:06:55.401051900Z",
     "start_time": "2024-07-08T12:06:55.286807600Z"
    }
   },
   "id": "ae09bfcaf3ff3c31"
  },
  {
   "cell_type": "code",
   "execution_count": 16,
   "outputs": [
    {
     "data": {
      "text/plain": "112"
     },
     "execution_count": 16,
     "metadata": {},
     "output_type": "execute_result"
    }
   ],
   "source": [
    "len(escape_nodes_filtered)"
   ],
   "metadata": {
    "collapsed": false,
    "ExecuteTime": {
     "end_time": "2024-07-08T12:06:55.489284900Z",
     "start_time": "2024-07-08T12:06:55.314727900Z"
    }
   },
   "id": "f3a4f4822743e395"
  },
  {
   "cell_type": "code",
   "execution_count": 17,
   "outputs": [],
   "source": [
    "escape_nodes = escape_nodes_filtered.copy()"
   ],
   "metadata": {
    "collapsed": false,
    "ExecuteTime": {
     "end_time": "2024-07-08T12:06:55.490282600Z",
     "start_time": "2024-07-08T12:06:55.329922100Z"
    }
   },
   "id": "5a8c073ed66d6a6c"
  },
  {
   "cell_type": "code",
   "execution_count": 18,
   "outputs": [],
   "source": [
    "def draw_edges(graph):\n",
    "    edges_fugitive = []\n",
    "\n",
    "    edge_colormap = ['lightgray'] * len(graph.edges())\n",
    "    edge_weightmap = [1] * len(graph.edges())\n",
    "    for index, edge in enumerate(graph.edges()):\n",
    "        if edge in edges_fugitive:\n",
    "            edge_colormap[index] = 'tab:orange'\n",
    "            edge_weightmap[index] = 2\n",
    "\n",
    "    return edge_colormap, edge_weightmap"
   ],
   "metadata": {
    "collapsed": false,
    "ExecuteTime": {
     "end_time": "2024-07-08T12:06:55.490282600Z",
     "start_time": "2024-07-08T12:06:55.359944800Z"
    }
   },
   "id": "30c1f5706ff689af"
  },
  {
   "cell_type": "code",
   "execution_count": 19,
   "outputs": [],
   "source": [
    "with open('data/fugitive_start_Rotterdam_centre.pkl', 'rb') as f:\n",
    "    fugitive_start_centre = pickle.load(f)\n",
    "\n",
    "with open('data/fugitive_start_Rotterdam_port.pkl', 'rb') as f:\n",
    "    fugitive_start_port = pickle.load(f)\n",
    "\n",
    "fugitive_starts = [\n",
    "    ('centre', fugitive_start_centre),\n",
    "    ('port', fugitive_start_port)\n",
    "]\n",
    "\n",
    "def draw_nodes(G, fugitive_start, cameras, trafficlights, roundabouts, tunnels, bridges, escape_nodes):\n",
    "    node_size = []\n",
    "    node_color = []\n",
    "    for node in G.nodes:\n",
    "        if node == fugitive_start:\n",
    "            node_size.append(40)\n",
    "            node_color.append('tab:orange')\n",
    "        elif node in escape_nodes:\n",
    "            node_size.append(40)\n",
    "            node_color.append('tab:red')\n",
    "        elif node in cameras:\n",
    "            node_size.append(10)\n",
    "            node_color.append('tab:green')\n",
    "        elif node in trafficlights:\n",
    "            node_size.append(10)\n",
    "            node_color.append('purple')\n",
    "        elif node in roundabouts:\n",
    "            node_size.append(10)\n",
    "            node_color.append('gold')\n",
    "        elif node in tunnels:\n",
    "            node_size.append(10)\n",
    "            node_color.append('aqua')\n",
    "        elif node in bridges:\n",
    "            node_size.append(10)\n",
    "            node_color.append('royalblue')\n",
    "        else:\n",
    "            node_size.append(0)\n",
    "            node_color.append('lightgray')\n",
    "    return node_size, node_color"
   ],
   "metadata": {
    "collapsed": false,
    "ExecuteTime": {
     "end_time": "2024-07-08T12:06:55.681699600Z",
     "start_time": "2024-07-08T12:06:55.401051900Z"
    }
   },
   "id": "c0d6b4055e7dbb58"
  },
  {
   "cell_type": "code",
   "execution_count": 20,
   "outputs": [],
   "source": [
    "from matplotlib.lines import Line2D\n",
    "\n",
    "def show_graph(G, escape_nodes, fugitive_start, cameras, trafficlights, roundabouts, bridges, tunnels, location_name, save=False):\n",
    "    edge_colormap, edge_weightmap = draw_edges(G)\n",
    "    node_size, node_color = draw_nodes(G, fugitive_start, cameras, trafficlights, roundabouts, tunnels, bridges, escape_nodes)\n",
    "\n",
    "    fig, ax = ox.plot_graph(\n",
    "                G, bgcolor=\"white\", node_color=node_color, node_size=node_size, edge_linewidth=edge_weightmap, edge_color=edge_colormap,\n",
    "                )\n",
    "    if save:\n",
    "        custom_lines = [Line2D([0], [0], color='tab:orange', marker='o', markersize=10, linestyle=''),\n",
    "                        Line2D([0], [0], color='tab:red', marker='o', markersize=10, linestyle=''),\n",
    "                        Line2D([0], [0], color='tab:green', marker='o', markersize=10, linestyle=''),\n",
    "                        Line2D([0], [0], color='purple', marker='o', markersize=10, linestyle=''),\n",
    "                        Line2D([0], [0], color='gold', marker='o', markersize=10, linestyle=''),\n",
    "                        Line2D([0], [0], color='aqua', marker='o', markersize=10, linestyle=''),\n",
    "                        Line2D([0], [0], color='royalblue', marker='o', markersize=10, linestyle=''),\n",
    "                        ]\n",
    "        labels = ['start fugitive', 'escape node', 'cameras', 'traffic light', 'roundabout', 'tunnel', 'bridge']\n",
    "        ax.legend(custom_lines, labels, bbox_to_anchor=(1.1, 1.05))\n",
    "        fig.savefig(f'graphs/{city}_{location_name}.png', bbox_inches='tight', dpi=300)"
   ],
   "metadata": {
    "collapsed": false,
    "ExecuteTime": {
     "end_time": "2024-07-08T12:06:55.681699600Z",
     "start_time": "2024-07-08T12:06:55.468044600Z"
    }
   },
   "id": "7bd6924730b5d000"
  },
  {
   "cell_type": "code",
   "execution_count": 78,
   "outputs": [],
   "source": [
    "for location_name, fugitive_start in fugitive_starts:\n",
    "    show_graph(G, escape_nodes, fugitive_start, [], [], [], [], [], location_name, save=True)"
   ],
   "metadata": {
    "collapsed": false,
    "ExecuteTime": {
     "end_time": "2024-06-20T15:59:07.390006Z",
     "start_time": "2024-06-20T15:59:07.291087700Z"
    }
   },
   "id": "56e03182b4f8dd9d"
  },
  {
   "cell_type": "code",
   "execution_count": 21,
   "outputs": [],
   "source": [
    "roundabouts = []\n",
    "for u,v, data in G.edges(data=True): \n",
    "    if 'junction' in data.keys():\n",
    "        if data['junction'] == 'roundabout':\n",
    "            roundabouts.append(u)\n",
    "            roundabouts.append(v)\n",
    "            \n",
    "roundabouts = np.unique(roundabouts)"
   ],
   "metadata": {
    "collapsed": false,
    "ExecuteTime": {
     "end_time": "2024-07-08T12:06:58.595309200Z",
     "start_time": "2024-07-08T12:06:58.468660600Z"
    }
   },
   "id": "bdd49a17f5468ab7"
  },
  {
   "cell_type": "code",
   "execution_count": 22,
   "outputs": [],
   "source": [
    "with open(f'./model_elements/roundabouts.pkl', 'wb') as f:\n",
    "    pickle.dump(roundabouts, f)"
   ],
   "metadata": {
    "collapsed": false,
    "ExecuteTime": {
     "end_time": "2024-07-08T12:06:59.033142100Z",
     "start_time": "2024-07-08T12:06:58.924446700Z"
    }
   }
  },
  {
   "cell_type": "code",
   "execution_count": 23,
   "outputs": [],
   "source": [
    "#On roundabouts, the maximum speed is not a realistic speed to drive. So, for 50km/h roundabouts, a speed of 30 is set, and roundabouts of 80km/h a speed of 50km/h will be used\n",
    "\n",
    "#Only when running for withtraffic (change manually)\n",
    "\n",
    "for u, v, data in G.edges(data=True):\n",
    "    if 'maxspeed' in data:\n",
    "        if u in roundabouts and v in roundabouts:\n",
    "            if data['maxspeed'] == 50:\n",
    "                data['maxspeed'] = 30\n",
    "                data['speed_kph'] = 30\n",
    "            if data['maxspeed'] == 80:\n",
    "                data['maxspeed'] = 50\n",
    "                data['speed_kph'] = 50"
   ],
   "metadata": {
    "collapsed": false,
    "ExecuteTime": {
     "end_time": "2024-07-08T12:07:13.135680200Z",
     "start_time": "2024-07-08T12:07:12.883896900Z"
    }
   }
  },
  {
   "cell_type": "code",
   "execution_count": 82,
   "outputs": [],
   "source": [
    "#for traffic lights: \n",
    "# 1) import non-simplified graph\n",
    "# 2) find all traffic lights and save lat/lon\n",
    "# 3) find nearest node for each\n",
    "# 4) add 'traffic_signals' tag"
   ],
   "metadata": {
    "collapsed": false,
    "ExecuteTime": {
     "end_time": "2024-06-20T15:59:07.582230600Z",
     "start_time": "2024-06-20T15:59:07.569667600Z"
    }
   },
   "id": "246461b38dfebd02"
  },
  {
   "cell_type": "code",
   "execution_count": 24,
   "outputs": [],
   "source": [
    "import networkx as nx\n",
    "import osmnx as ox\n",
    "\n",
    "useful_tags_path = ['bridge', 'tunnel', 'oneway', 'lanes', 'ref', 'name', 'length',\n",
    "                    'highway', 'maxspeed', 'service', 'access', 'area', 'name'\n",
    "                    'landuse', 'width', 'est_width', 'junction', 'surface', \n",
    "                    'traffic_signals', 'crossing']\n",
    "\n",
    "ox.settings.useful_tags_way=useful_tags_path\n",
    "\n",
    "def generate_streetnetwork(city_str, dist):\n",
    "    \"\"\"\n",
    "    Load a network from OSMNX which will be used for the simulation runs. The generated network is from Rotterdam.\n",
    "    Returns\n",
    "    -------\n",
    "    G: network MultiGraph\n",
    "        Network Graph with different attributes:\n",
    "            Nodes and Edges with LineString with coordinates,\n",
    "            Edges have properties Speed, Travel time, Length.\n",
    "\n",
    "    \"\"\"\n",
    "    lonlat=     'Netherlands'                                 #coordinates of the city centre of Rotterdam\n",
    "    roadtype=   \"drive\"                                     #select only roads which are driveable by the car.\n",
    "\n",
    "    cf = '[\"highway\"~\"motorway|motorway_link|trunk|trunk_link|primary|secondary|tertiary|residential|unclassified\"]' #busway\n",
    "\n",
    "    ox.settings.log_console=True\n",
    "    ox.settings.use_cache=True\n",
    "\n",
    "    # download street network data from OSM and construct a MultiDiGraph model\n",
    "    G = ox.graph_from_address(city_str, dist=dist, network_type='drive', simplify=False, custom_filter=cf)\n",
    "\n",
    "    return G\n",
    "\n",
    "G_notsimplified=generate_streetnetwork(city_str, dist)"
   ],
   "metadata": {
    "collapsed": false,
    "ExecuteTime": {
     "end_time": "2024-07-08T12:08:17.326044600Z",
     "start_time": "2024-07-08T12:07:17.031634Z"
    }
   },
   "id": "6e3f91760d10cade"
  },
  {
   "cell_type": "code",
   "execution_count": 84,
   "outputs": [],
   "source": [
    "len(G.nodes())"
   ],
   "metadata": {
    "collapsed": false,
    "ExecuteTime": {
     "end_time": "2024-06-20T15:59:59.072790Z",
     "start_time": "2024-06-20T15:59:59.059255300Z"
    }
   },
   "id": "df2953042af9d4ca"
  },
  {
   "cell_type": "code",
   "execution_count": 25,
   "outputs": [],
   "source": [
    "trafficlight_locs = []\n",
    "for u, data in G_notsimplified.nodes(data=True): \n",
    "    if 'traffic_signals' in data.keys():\n",
    "        trafficlight_locs.append(data)\n",
    "    elif 'highway' in data.keys():\n",
    "        if data['highway'] == 'traffic_signals':\n",
    "            trafficlight_locs.append(data)\n",
    "    elif 'crossing' in data.keys():\n",
    "        if data['crossing'] == 'traffic_signals':\n",
    "            trafficlight_locs.append(data)"
   ],
   "metadata": {
    "collapsed": false,
    "ExecuteTime": {
     "end_time": "2024-07-08T12:08:17.430689400Z",
     "start_time": "2024-07-08T12:08:17.390605300Z"
    }
   },
   "id": "1f0918c360087ea3"
  },
  {
   "cell_type": "code",
   "execution_count": 26,
   "outputs": [],
   "source": [
    "import osmnx as ox\n",
    "import numpy as np\n",
    "\n",
    "trafficlights = []\n",
    "\n",
    "for trafficlight_loc in trafficlight_locs:\n",
    "    y_coord = trafficlight_loc['y']\n",
    "    x_coord = trafficlight_loc['x']\n",
    "\n",
    "    node_distances = {}\n",
    "    for node in G.nodes():\n",
    "        if 'x' in G.nodes[node] and 'y' in G.nodes[node]:\n",
    "            node_y = G.nodes[node]['y']\n",
    "            node_x = G.nodes[node]['x']\n",
    "            distance = np.sqrt((y_coord - node_y)**2 + (x_coord - node_x)**2)\n",
    "            node_distances[node] = distance\n",
    "\n",
    "    nearest_node = min(node_distances, key=node_distances.get)\n",
    "    trafficlights.append(nearest_node)\n",
    "\n",
    "trafficlights = np.unique(trafficlights)"
   ],
   "metadata": {
    "collapsed": false,
    "ExecuteTime": {
     "end_time": "2024-07-08T12:10:49.829935600Z",
     "start_time": "2024-07-08T12:08:17.531591700Z"
    }
   }
  },
  {
   "cell_type": "code",
   "execution_count": 87,
   "outputs": [],
   "source": [
    "trafficlight_locs"
   ],
   "metadata": {
    "collapsed": false,
    "ExecuteTime": {
     "end_time": "2024-06-20T16:01:22.101656600Z",
     "start_time": "2024-06-20T16:01:22.085602300Z"
    }
   },
   "id": "4601be7218c788f9"
  },
  {
   "cell_type": "code",
   "execution_count": 134,
   "outputs": [
    {
     "data": {
      "text/plain": "754"
     },
     "execution_count": 134,
     "metadata": {},
     "output_type": "execute_result"
    }
   ],
   "source": [
    "len(trafficlights)"
   ],
   "metadata": {
    "collapsed": false,
    "ExecuteTime": {
     "end_time": "2024-06-22T15:53:36.994883200Z",
     "start_time": "2024-06-22T15:53:36.866055900Z"
    }
   },
   "id": "bdaa42926f1d3838"
  },
  {
   "cell_type": "code",
   "execution_count": 27,
   "outputs": [],
   "source": [
    "tunnels = []\n",
    "for u, v, data in G.edges(data=True): \n",
    "    if 'tunnel' in data.keys():\n",
    "        tunnels.append(u)\n",
    "        tunnels.append(v)\n",
    "            \n",
    "tunnels = np.unique(tunnels)"
   ],
   "metadata": {
    "collapsed": false,
    "ExecuteTime": {
     "end_time": "2024-07-08T12:10:49.903772100Z",
     "start_time": "2024-07-08T12:10:49.873883Z"
    }
   },
   "id": "9a49a3ae2a223501"
  },
  {
   "cell_type": "code",
   "execution_count": 28,
   "outputs": [
    {
     "data": {
      "text/plain": "array([  44419475,   44425711,   44580092,  791025558, 5775065222,\n       6636541280], dtype=int64)"
     },
     "execution_count": 28,
     "metadata": {},
     "output_type": "execute_result"
    }
   ],
   "source": [
    "bridges1 = []\n",
    "for u, v, data in G.edges(data=True): \n",
    "    if 'bridge' in data.keys():\n",
    "        if data['bridge'] == 'movable':\n",
    "            bridges1.append(u)\n",
    "            bridges1.append(v)\n",
    "            \n",
    "bridges1 = np.unique(bridges1)"
   ],
   "metadata": {
    "collapsed": false,
    "ExecuteTime": {
     "end_time": "2024-07-08T12:10:49.994542Z",
     "start_time": "2024-07-08T12:10:49.900444600Z"
    }
   },
   "id": "b57762a9a4648340"
  },
  {
   "cell_type": "code",
   "execution_count": 29,
   "outputs": [
    {
     "name": "stderr",
     "output_type": "stream",
     "text": [
      "C:\\Users\\Veerle\\anaconda3\\lib\\site-packages\\ipykernel_launcher.py:10: FutureWarning: pandas.io.json.json_normalize is deprecated, use pandas.json_normalize instead\n",
      "  # Remove the CWD from sys.path while we load stuff.\n"
     ]
    },
    {
     "data": {
      "text/plain": "             id        lat       lon\n23   5313597287  51.906264  4.448596\n24   5313597288  51.906276  4.448055\n25   5313597289  51.906242  4.448055\n26   5313597290  51.906232  4.448592\n27   8437277790  51.916638  4.443798\n..          ...        ...       ...\n146  2405631460  51.921322  4.498191\n147  2405631461  51.921037  4.498107\n148  2405631469  51.921119  4.498362\n149   745637382  51.955601  4.518518\n150   745637781  51.955578  4.518650\n\n[128 rows x 3 columns]",
      "text/html": "<div>\n<style scoped>\n    .dataframe tbody tr th:only-of-type {\n        vertical-align: middle;\n    }\n\n    .dataframe tbody tr th {\n        vertical-align: top;\n    }\n\n    .dataframe thead th {\n        text-align: right;\n    }\n</style>\n<table border=\"1\" class=\"dataframe\">\n  <thead>\n    <tr style=\"text-align: right;\">\n      <th></th>\n      <th>id</th>\n      <th>lat</th>\n      <th>lon</th>\n    </tr>\n  </thead>\n  <tbody>\n    <tr>\n      <th>23</th>\n      <td>5313597287</td>\n      <td>51.906264</td>\n      <td>4.448596</td>\n    </tr>\n    <tr>\n      <th>24</th>\n      <td>5313597288</td>\n      <td>51.906276</td>\n      <td>4.448055</td>\n    </tr>\n    <tr>\n      <th>25</th>\n      <td>5313597289</td>\n      <td>51.906242</td>\n      <td>4.448055</td>\n    </tr>\n    <tr>\n      <th>26</th>\n      <td>5313597290</td>\n      <td>51.906232</td>\n      <td>4.448592</td>\n    </tr>\n    <tr>\n      <th>27</th>\n      <td>8437277790</td>\n      <td>51.916638</td>\n      <td>4.443798</td>\n    </tr>\n    <tr>\n      <th>...</th>\n      <td>...</td>\n      <td>...</td>\n      <td>...</td>\n    </tr>\n    <tr>\n      <th>146</th>\n      <td>2405631460</td>\n      <td>51.921322</td>\n      <td>4.498191</td>\n    </tr>\n    <tr>\n      <th>147</th>\n      <td>2405631461</td>\n      <td>51.921037</td>\n      <td>4.498107</td>\n    </tr>\n    <tr>\n      <th>148</th>\n      <td>2405631469</td>\n      <td>51.921119</td>\n      <td>4.498362</td>\n    </tr>\n    <tr>\n      <th>149</th>\n      <td>745637382</td>\n      <td>51.955601</td>\n      <td>4.518518</td>\n    </tr>\n    <tr>\n      <th>150</th>\n      <td>745637781</td>\n      <td>51.955578</td>\n      <td>4.518650</td>\n    </tr>\n  </tbody>\n</table>\n<p>128 rows × 3 columns</p>\n</div>"
     },
     "execution_count": 29,
     "metadata": {},
     "output_type": "execute_result"
    }
   ],
   "source": [
    "from pandas.io.json import json_normalize\n",
    "import json\n",
    "\n",
    "bridges_path = f'./data/bridges_rotterdam.json'\n",
    "with open(bridges_path, 'r') as json_bestand:\n",
    "    data = json.load(json_bestand)\n",
    "\n",
    "# converteer json bestand naar een DataFrame\n",
    "bridges_dataframe = json_normalize(data)\n",
    "\n",
    "bridges_dataframe = bridges_dataframe[bridges_dataframe['type']=='node']\n",
    "bridges_dataframe = bridges_dataframe[['id','lat','lon']]\n",
    "bridges_dataframe"
   ],
   "metadata": {
    "collapsed": false,
    "ExecuteTime": {
     "end_time": "2024-07-08T12:10:50.111689200Z",
     "start_time": "2024-07-08T12:10:49.980542500Z"
    }
   },
   "id": "b53299b9731779a6"
  },
  {
   "cell_type": "code",
   "execution_count": 30,
   "outputs": [],
   "source": [
    "bridges = []\n",
    "for i in bridges_dataframe:\n",
    "    dichtstbijzijnde_node = ox.nearest_nodes(G, bridges_dataframe['lon'], bridges_dataframe['lat'])\n",
    "    bridges.append(dichtstbijzijnde_node)\n",
    "bridges = np.unique(bridges)"
   ],
   "metadata": {
    "collapsed": false,
    "ExecuteTime": {
     "end_time": "2024-07-08T12:10:50.548065300Z",
     "start_time": "2024-07-08T12:10:50.118667900Z"
    }
   }
  },
  {
   "cell_type": "code",
   "execution_count": 93,
   "outputs": [],
   "source": [
    "# for location_name, fugitive_start in fugitive_starts:\n",
    "#     #show_graph(G, escape_nodes, fugitive_start, [], [], [], [], [], location_name, save=True)\n",
    "#     show_graph(G, [], fugitive_start, cameras, trafficlights, roundabouts, bridges, tunnels, location_name, save=True)"
   ],
   "metadata": {
    "collapsed": false,
    "ExecuteTime": {
     "end_time": "2024-06-20T16:01:22.658302300Z",
     "start_time": "2024-06-20T16:01:22.651315300Z"
    }
   },
   "id": "f247981cca74582f"
  },
  {
   "cell_type": "markdown",
   "source": [
    "Congestion factor"
   ],
   "metadata": {
    "collapsed": false
   }
  },
  {
   "cell_type": "code",
   "execution_count": 31,
   "outputs": [],
   "source": [
    "congestion_travel_time_dict = {}\n",
    "for u, v, z, data in G.edges(data=True, keys=True):\n",
    "    if data['highway'] in ['trunk', 'primary']:\n",
    "        congestion_factor = 1.75\n",
    "    elif data['highway'] in ['motorway']:\n",
    "        congestion_factor = 2\n",
    "    elif data['highway'] in ['secondary']:\n",
    "        congestion_factor = 1.5\n",
    "    elif data['highway'] in ['tertiary']:\n",
    "        congestion_factor = 1.25\n",
    "    else:\n",
    "        congestion_factor = 1\n",
    "\n",
    "    data['congestion_factor'] = congestion_factor\n",
    "    travel_time_with_congestion = float(data['travel_time'] * data['congestion_factor'])\n",
    "\n",
    "    congestion_travel_time_dict[(u, v, z)] = travel_time_with_congestion\n",
    "\n",
    "for u, v, z, data in G.edges(data=True, keys=True):\n",
    "    if 'lanes' in data:\n",
    "        if data['lanes'] == '1' and data['highway'] in ['trunk', 'primary', 'secondary']:\n",
    "            data['congestion_factor'] += 0.2\n",
    "            travel_time_with_congestion = float(data['travel_time'] * data['congestion_factor'])\n",
    "            congestion_travel_time_dict[(u, v, z)] = travel_time_with_congestion\n",
    "\n",
    "nx.set_edge_attributes(G, congestion_travel_time_dict, \"travel_time_with_congestion\")"
   ],
   "metadata": {
    "collapsed": false,
    "ExecuteTime": {
     "end_time": "2024-07-08T12:10:50.642619800Z",
     "start_time": "2024-07-08T12:10:50.536586200Z"
    }
   }
  },
  {
   "cell_type": "code",
   "execution_count": 96,
   "outputs": [],
   "source": [
    "color_map = {\n",
    "    2: 'darkred',\n",
    "    1.95: 'darkred',\n",
    "    1.75: 'red',\n",
    "    1.7: 'red',\n",
    "    1.5: 'orange',\n",
    "    1.25: 'yellow',\n",
    "    1: 'lightgray',\n",
    "}\n",
    "\n",
    "fig, ax = plt.subplots(figsize=(15, 8))\n",
    "edge_size = []\n",
    "edge_width = []\n",
    "node_color = []\n",
    "for u, v, data in G.edges(data=True):\n",
    "    congestion_factor = data.get('congestion_factor', 1)\n",
    "    color = color_map.get(congestion_factor, 'lightgray')\n",
    "\n",
    "    edge_size.append(color)\n",
    "    edge_width.append(1)\n",
    "\n",
    "node_color = [\"lightgray\" for node in G.nodes()]\n",
    "node_size = [0 for node in G.nodes()]\n",
    "\n",
    "# Plot de grafiek\n",
    "ox.plot.plot_graph(\n",
    "    G, ax=ax,\n",
    "    bgcolor=\"white\", node_color=node_color, node_size=node_size, edge_linewidth=edge_width, edge_color=edge_size,\n",
    "    save=False, close=False\n",
    ");\n"
   ],
   "metadata": {
    "collapsed": false,
    "ExecuteTime": {
     "end_time": "2024-06-20T16:01:22.880746700Z",
     "start_time": "2024-06-20T16:01:22.866778Z"
    }
   }
  },
  {
   "cell_type": "markdown",
   "source": [
    "Loop through all edges in graph. If u/v has camera/traffic light/roundabout/etc, add time to travel_time of edge. e.g. 30 sec for camera, 10 sec for traffic light, 5 for roundabout (bc multiple nodes)?"
   ],
   "metadata": {
    "collapsed": false
   },
   "id": "7903f919528b3c90"
  },
  {
   "cell_type": "code",
   "execution_count": 32,
   "outputs": [],
   "source": [
    "camera_extra_time = 30\n",
    "roundabout_extra_time = 5\n",
    "trafficlight_extra_time = 30 #in literatuur: disutility gevonden van 20-40 seconden per verkeerslicht\n",
    "tunnel_extra_time = 15 # want tunnel wordt als claustrofobischer ervaren dan brug\n",
    "bridge_extra_time = 10\n",
    "\n",
    "travel_time_dict = {}\n",
    "for u, v, z, data in G.edges(data=True,keys=True):\n",
    "    travel_time_adj = data['travel_time_with_congestion'] # of travel_time_with_congestion in geval met traffic\n",
    "#om te voorkomen dat ze gelijk de snelweg opgaan\n",
    "    if data['highway'] in ['motorway', 'trunk', 'primary']:\n",
    "        travel_time_adj += 40\n",
    "\n",
    "    if u in cameras:\n",
    "        travel_time_adj += camera_extra_time\n",
    "    if u in trafficlights:\n",
    "        travel_time_adj += trafficlight_extra_time\n",
    "    if u in roundabouts:\n",
    "        travel_time_adj += roundabout_extra_time\n",
    "    if u in tunnels:\n",
    "        travel_time_adj += tunnel_extra_time\n",
    "    if u in bridges:\n",
    "        travel_time_adj += bridge_extra_time\n",
    "\n",
    "    if v in cameras:\n",
    "        travel_time_adj += camera_extra_time\n",
    "    if v in trafficlights:\n",
    "        travel_time_adj += trafficlight_extra_time\n",
    "    if v in roundabouts:\n",
    "        travel_time_adj += roundabout_extra_time\n",
    "    if v in tunnels:\n",
    "        travel_time_adj += tunnel_extra_time\n",
    "    if v in bridges:\n",
    "        travel_time_adj += bridge_extra_time\n",
    "    travel_time_dict[(u, v, z)] = float(travel_time_adj)\n",
    "\n",
    "nx.set_edge_attributes(G, travel_time_dict, \"travel_time_adj\")"
   ],
   "metadata": {
    "collapsed": false,
    "ExecuteTime": {
     "end_time": "2024-07-08T12:10:52.369397800Z",
     "start_time": "2024-07-08T12:10:50.642059700Z"
    }
   },
   "id": "a0e593c995dfeffe"
  },
  {
   "cell_type": "code",
   "execution_count": 33,
   "outputs": [],
   "source": [
    "for location_name, fugitive_start in fugitive_starts:\n",
    "    route_fugitive = []\n",
    "    while len(route_fugitive) < 1000:\n",
    "        for escape_node in escape_nodes_filtered:\n",
    "            try:\n",
    "                path = nx.shortest_path(G, fugitive_start, escape_node, 'travel_time_adj')\n",
    "                route_fugitive.append(path)\n",
    "            except:\n",
    "                continue\n",
    "\n",
    "#save the graph according to the right name (change manually)\n",
    "    with open(f'data/escape_routes_Rotterdam_{location_name}_withtraffic.pkl', 'wb') as f:\n",
    "        pickle.dump(route_fugitive, f)"
   ],
   "metadata": {
    "collapsed": false,
    "ExecuteTime": {
     "end_time": "2024-07-08T12:12:12.592884Z",
     "start_time": "2024-07-08T12:10:52.374352800Z"
    }
   },
   "id": "188007b375a6c50"
  },
  {
   "cell_type": "code",
   "execution_count": 103,
   "outputs": [
    {
     "data": {
      "text/plain": "[44554760,\n 44409874,\n 1403932179,\n 44467732,\n 2805850135,\n 44476443,\n 603022362,\n 4818915358,\n 44156963,\n 4818915364,\n 4526122543,\n 44444721,\n 44500536,\n 2603401279,\n 44260928,\n 44164163,\n 2603401292,\n 331166803,\n 2603401300,\n 1352714332,\n 322017885,\n 44702815,\n 44171879,\n 44349037,\n 2603401325,\n 1367194737,\n 5390784116,\n 44449398,\n 44355197,\n 1367194750,\n 44440194,\n 44429449,\n 44440724,\n 44174485,\n 1367194774,\n 44468388,\n 44564644,\n 44463270,\n 44177581,\n 8432860337,\n 44224179,\n 44630195,\n 288169675,\n 44543693,\n 323145423,\n 1030937303,\n 44463835,\n 621490909,\n 44463844,\n 3647991524,\n 44254956,\n 44547308,\n 44187376,\n 44596978,\n 44177139,\n 322906357,\n 44478198,\n 322070776,\n 2545482491,\n 4461994752,\n 44426497,\n 44158213,\n 44206856,\n 330658056,\n 44443914,\n 44170518,\n 2545482520,\n 1311152413,\n 1250244897,\n 44392228,\n 44221221,\n 44473124,\n 275904807,\n 44436264,\n 44299057,\n 1404073778,\n 1402598708,\n 275902274,\n 44185923,\n 44485447,\n 44154184,\n 44142413,\n 44372815,\n 322906465,\n 944517988,\n 44411753,\n 44145003,\n 44444526,\n 44157300,\n 602474365,\n 1367852935,\n 44397464,\n 44484007,\n 44152744,\n 44421034,\n 275900857,\n 289070523,\n 44409789,\n 1367852991,\n 1403932100,\n 1367852998,\n 44573645,\n 44174799,\n 44470228,\n 44371416,\n 44563930,\n 44341727,\n 44177897,\n 722870763,\n 44599284,\n 1367853044,\n 44184056]"
     },
     "execution_count": 103,
     "metadata": {},
     "output_type": "execute_result"
    }
   ],
   "source": [
    "escape_nodes"
   ],
   "metadata": {
    "collapsed": false,
    "ExecuteTime": {
     "end_time": "2024-06-20T16:02:14.571716Z",
     "start_time": "2024-06-20T16:02:14.557193100Z"
    }
   },
   "id": "b316badd7691f032"
  },
  {
   "cell_type": "code",
   "execution_count": 104,
   "outputs": [
    {
     "data": {
      "text/plain": "1008"
     },
     "execution_count": 104,
     "metadata": {},
     "output_type": "execute_result"
    }
   ],
   "source": [
    "len(route_fugitive)"
   ],
   "metadata": {
    "collapsed": false,
    "ExecuteTime": {
     "end_time": "2024-06-20T16:02:14.598643400Z",
     "start_time": "2024-06-20T16:02:14.572713600Z"
    }
   },
   "id": "96d5b0adb4012feb"
  },
  {
   "cell_type": "code",
   "execution_count": 105,
   "outputs": [],
   "source": [
    "# # # nx.draw_networkx_edges(G,edgelist=path_edges,edge_color='r',width=10)\n",
    "# #node_size, node_color = draw_nodes(G, fugitive_start, [], [], [], [], [], escape_nodes)\n",
    "# #G, fugitive_start, cameras, trafficlights, roundabouts, tunnels, bridges, escape_nodes): #cameras\n",
    "# node_size, node_color = draw_nodes(G, fugitive_start, [], [], [], [], [], escape_nodes)\n",
    "# edge_colormap, edge_weightmap = draw_edges(G)\n",
    "#\n",
    "# fig, ax = ox.plot_graph_routes(G, route_fugitive,\n",
    "#                                route_linewidths=1, orig_dest_size=0,\n",
    "#                                edge_linewidth=edge_weightmap, edge_color=edge_colormap,\n",
    "#                                node_color=node_color, node_size=node_size,\n",
    "#                                bgcolor=\"white\", )\n",
    "#\n",
    "# fig.savefig(f'{city}_cool.png', bbox_inches='tight', dpi=300)"
   ],
   "metadata": {
    "collapsed": false,
    "ExecuteTime": {
     "end_time": "2024-06-20T16:02:14.603632400Z",
     "start_time": "2024-06-20T16:02:14.588671300Z"
    }
   },
   "id": "7a3669237ba7939"
  },
  {
   "cell_type": "markdown",
   "source": [
    "Politiebureaus en verplaatsingsnelheid"
   ],
   "metadata": {
    "collapsed": false
   }
  },
  {
   "cell_type": "code",
   "execution_count": 111,
   "outputs": [],
   "source": [
    "locations2 = [(4.48020, 51.92399), (4.49594, 51.90196)]\n",
    "locations4 = [(4.49594, 51.90196), (4.48020, 51.92399), (4.55229, 51.94875), (4.482000, 51.8756)]\n",
    "\n",
    "def save_police_data(locations, number_units):\n",
    "    politie_bureau = []\n",
    "    delay = []\n",
    "    for location in locations:\n",
    "        dichtstbijzijnde_node = ox.nearest_nodes(G, location[0], location[1])\n",
    "        politie_bureau.append(dichtstbijzijnde_node)\n",
    "        delay.append(0)\n",
    "\n",
    "    with open(f'./data/optimization/start_police_{city}_{number_units}.pkl', 'wb') as f:\n",
    "        pickle.dump(politie_bureau, f)\n",
    "\n",
    "    with open(f'./data/optimization/delays_police_{city}_{number_units}.pkl', 'wb') as f:\n",
    "        pickle.dump(delay, f)\n",
    "\n",
    "save_police_data(locations2, '2')\n",
    "save_police_data(locations4, '4')"
   ],
   "metadata": {
    "collapsed": false,
    "ExecuteTime": {
     "end_time": "2024-06-20T16:02:19.090927600Z",
     "start_time": "2024-06-20T16:02:18.696907800Z"
    }
   }
  },
  {
   "cell_type": "code",
   "execution_count": 112,
   "outputs": [],
   "source": [
    "# def show_polities(G):\n",
    "#     # Locaties van de politiebureaus (lon, lat)\n",
    "#     locations2 = [(4.48020, 51.92399), (4.49594, 51.90196)]\n",
    "#     locations4 = [(4.49594, 51.90196), (4.48020, 51.92399), (4.55229, 51.94875), (4.482000, 51.8756)]\n",
    "#\n",
    "#     # Vind de dichtstbijzijnde knooppunten voor elke locatie\n",
    "#     politie_bureau = [ox.nearest_nodes(G, lon, lat) for lon, lat in locations4]\n",
    "#\n",
    "#\n",
    "#     # Configureer de kleuren en groottes van de knooppunten\n",
    "#     node_size = []\n",
    "#     node_color = []\n",
    "#     for node in G.nodes:\n",
    "#         if node in politie_bureau:\n",
    "#             node_size.append(40)\n",
    "#             node_color.append('tab:blue')\n",
    "#         else:\n",
    "#             node_size.append(0)\n",
    "#             node_color.append('lightgray')\n",
    "#\n",
    "#     edge_colormap, edge_weightmap = draw_edges(G)\n",
    "#\n",
    "#     fig, ax = ox.plot_graph(\n",
    "#         G, bgcolor=\"white\", node_color=node_color, node_size=node_size, edge_linewidth=edge_weightmap, edge_color=edge_colormap, show=False\n",
    "#     )\n",
    "#\n",
    "#     plt.show()\n",
    "#\n",
    "# show_polities(G)"
   ],
   "metadata": {
    "collapsed": false,
    "ExecuteTime": {
     "end_time": "2024-06-20T16:02:19.105739700Z",
     "start_time": "2024-06-20T16:02:19.092924100Z"
    }
   }
  },
  {
   "cell_type": "code",
   "execution_count": 34,
   "outputs": [],
   "source": [
    "police_travel_time_dict = {}\n",
    "for u, v, z, data in G.edges(data=True, keys=True):\n",
    "    police_travel_time_dict[(u, v, z)] = data['travel_time']\n",
    "\n",
    "for u, v, z, data in G.edges(data=True,keys=True):\n",
    "    if 'lanes' in data:\n",
    "        if data['lanes'] == 1:\n",
    "            police_travel_time = data['travel_time']/1.1\n",
    "            police_travel_time_dict[(u, v, z)] = float(police_travel_time)\n",
    "        else:\n",
    "            police_travel_time = data['travel_time']/1.3\n",
    "            police_travel_time_dict[(u, v, z)] = float(police_travel_time)\n",
    "\n",
    "nx.set_edge_attributes(G, police_travel_time_dict, \"police_travel_time\")\n",
    "\n",
    "police_travel_time_dict_traffic = {}\n",
    "for u, v, z, data in G.edges(data=True, keys=True):\n",
    "    police_travel_time_dict_traffic[(u, v, z)] = data['travel_time']\n",
    "\n",
    "for u, v, z, data in G.edges(data=True,keys=True):\n",
    "    if 'lanes' in data:\n",
    "        if data['lanes'] == 1:\n",
    "            police_travel_time_traffic = data['travel_time_with_congestion']/1.1\n",
    "            police_travel_time_dict_traffic[(u, v, z)] = float(police_travel_time_traffic)\n",
    "    else:\n",
    "        police_travel_time_traffic = data['travel_time_with_congestion']/1.3\n",
    "        police_travel_time_dict_traffic[(u, v, z)] = float(police_travel_time_traffic)\n",
    "\n",
    "nx.set_edge_attributes(G, police_travel_time_dict_traffic, \"police_travel_time_traffic\")\n",
    "\n",
    "police_travel_time_dict_eval = {}\n",
    "for u, v, z, data in G.edges(data=True, keys=True):\n",
    "    police_travel_time_dict_eval[(u, v, z)] = data['travel_time']\n",
    "\n",
    "for u, v, z, data in G.edges(data=True,keys=True):\n",
    "    if 'police_travel_time_traffic' in data and 'police_travel_time' in data:\n",
    "        police_travel_time_eval = (data['police_travel_time'] + data['police_travel_time_traffic'])/2\n",
    "        police_travel_time_dict_eval[(u, v, z)] = float(police_travel_time_eval)\n",
    "    elif 'police_travel_time_traffic' in data:\n",
    "        police_travel_time_eval = data['police_travel_time_traffic']\n",
    "        police_travel_time_dict_eval[(u, v, z)] = float(police_travel_time_eval)\n",
    "    elif 'police_travel_time' in data:\n",
    "        police_travel_time_eval = data['police_travel_time']\n",
    "        police_travel_time_dict_eval[(u, v, z)] = float(police_travel_time_eval)\n",
    "    else:\n",
    "        police_travel_time_eval = data['travel_time']\n",
    "        police_travel_time_dict_eval[(u, v, z)] = float(police_travel_time_eval)\n",
    "\n",
    "nx.set_edge_attributes(G, police_travel_time_dict_eval, \"police_travel_time_eval\")"
   ],
   "metadata": {
    "collapsed": false,
    "ExecuteTime": {
     "end_time": "2024-07-08T12:12:13.082490400Z",
     "start_time": "2024-07-08T12:12:12.594150200Z"
    }
   }
  },
  {
   "cell_type": "code",
   "execution_count": 35,
   "outputs": [],
   "source": [
    "# save graph accordingly (change manually)\n",
    "filepath=f\"./graphs/{city}_withtraffic_prepped.graph.graphml\"\n",
    "# ox.save_graph_geopackage(G, filepath=filepath)\n",
    "ox.save_graphml(G,filepath)"
   ],
   "metadata": {
    "collapsed": false,
    "ExecuteTime": {
     "end_time": "2024-07-08T12:12:19.235999400Z",
     "start_time": "2024-07-08T12:12:13.086308500Z"
    }
   }
  },
  {
   "cell_type": "markdown",
   "source": [
    "Trafficlight categories"
   ],
   "metadata": {
    "collapsed": false
   }
  },
  {
   "cell_type": "code",
   "execution_count": 115,
   "outputs": [
    {
     "name": "stdout",
     "output_type": "stream",
     "text": [
      "Nodes waar alleen 'primary' of 'trunk' wegen samenkomen en waarop een verkeerslicht staat: [1435028993, 44366722, 1027160451, 4609552133, 4893441413, 5313487237, 44344079, 44378898, 44153108, 44370966, 1027160470, 1027231640, 44378905, 4336525732, 1027160486, 44152359, 745765801, 44492717, 4541858605, 1027160502, 44496951, 1737484856, 44153532, 44391752, 1687745613, 44374993, 44495574, 1465648217, 582730460, 44341341, 44149342, 987492067, 768903396, 3428185955, 582730470, 3428185957, 3428185961, 3428185965, 4893350894, 10734992621, 582730483, 11230989181, 44148222]\n",
      "Het zijn er 43\n"
     ]
    }
   ],
   "source": [
    "primary_trafficlight_nodes = []\n",
    "\n",
    "# Loop door elke node in de grafiek\n",
    "for node in G_notsimplified.nodes():\n",
    "    # Controleer of alle buren van de huidige node 'primary' of 'trunk' wegen zijn\n",
    "    if all(data['highway'] == 'primary' or data['highway'] == 'trunk' for _, _, data in G_notsimplified.edges(node, data=True)):\n",
    "        # Voeg de node toe aan de lijst als alle buren 'primary' of 'trunk' wegen zijn en er een verkeerslicht op de node is\n",
    "        if node in trafficlights:\n",
    "            primary_trafficlight_nodes.append(node)\n",
    "\n",
    "# Verwijder duplicaten uit de lijst\n",
    "primary_trafficlight_nodes = list(set(primary_trafficlight_nodes))\n",
    "print(\"Nodes waar alleen 'primary' of 'trunk' wegen samenkomen en waarop een verkeerslicht staat:\", primary_trafficlight_nodes)\n",
    "print('Het zijn er', len(primary_trafficlight_nodes))"
   ],
   "metadata": {
    "collapsed": false,
    "ExecuteTime": {
     "end_time": "2024-06-20T16:02:25.777805100Z",
     "start_time": "2024-06-20T16:02:25.210493700Z"
    }
   }
  },
  {
   "cell_type": "code",
   "execution_count": 116,
   "outputs": [
    {
     "name": "stdout",
     "output_type": "stream",
     "text": [
      "Nodes waar zowel 'primary' of 'trunk' als 'secondary' wegen samenkomen en waarop een verkeerslicht staat: [44233216, 2784433793, 1435580676, 44564363, 44273038, 44342670, 726833427, 735555481, 768935962, 768935963, 622670754, 1435580711, 44290473, 987492137, 44448301, 44201522, 44185527, 1435580729, 622670909, 602273346, 44529099, 602273358, 44235360, 736825314, 44156136, 3730829929, 670854762, 987492075, 44157420, 1434930157, 745765622, 312642167, 1433962105, 770739582]\n",
      "Het zijn er 34\n"
     ]
    }
   ],
   "source": [
    "primarysecondary_trafficlight_nodes = []\n",
    "\n",
    "for node in G_notsimplified.nodes():\n",
    "    primary_found = False\n",
    "    secondary_found = False\n",
    "\n",
    "    for _, _, data in G_notsimplified.edges(node, data=True):\n",
    "        if data.get('highway') in ['primary', 'trunk']:\n",
    "            primary_found = True\n",
    "        elif data.get('highway') == 'secondary':\n",
    "            secondary_found = True\n",
    "\n",
    "    if primary_found and secondary_found and node in trafficlights:\n",
    "        primarysecondary_trafficlight_nodes.append(node)\n",
    "\n",
    "# Verwijder duplicaten uit de lijst\n",
    "primarysecondary_trafficlight_nodes = list(set(primarysecondary_trafficlight_nodes))\n",
    "print(\"Nodes waar zowel 'primary' of 'trunk' als 'secondary' wegen samenkomen en waarop een verkeerslicht staat:\", primarysecondary_trafficlight_nodes)\n",
    "print('Het zijn er', len(primarysecondary_trafficlight_nodes))"
   ],
   "metadata": {
    "collapsed": false,
    "ExecuteTime": {
     "end_time": "2024-06-20T16:02:26.363541400Z",
     "start_time": "2024-06-20T16:02:25.781763600Z"
    }
   }
  },
  {
   "cell_type": "code",
   "execution_count": 117,
   "outputs": [
    {
     "name": "stdout",
     "output_type": "stream",
     "text": [
      "Nodes waar zowel 'primary' of 'trunk' als 'tertiary' wegen samenkomen en waarop een verkeerslicht staat: [1435580552, 44265877, 44548375, 622670751, 44262688, 622670888, 622670890, 745722541, 44262196, 622670901, 1435580606, 44442691, 44546770, 1434930131, 736865364, 44266457, 1434870237, 1434870238, 771254627, 44379364, 44548838, 44190704, 44546173]\n",
      "Het zijn er 23\n"
     ]
    }
   ],
   "source": [
    "primarytertiary_trafficlight_nodes = []\n",
    "\n",
    "# Loop door elke node in de grafiek\n",
    "for node in G_notsimplified.nodes():\n",
    "    primary_found = False\n",
    "    tertiary_found = False\n",
    "\n",
    "    # Loop door alle buren van de huidige node\n",
    "    for _, _, data in G_notsimplified.edges(node, data=True):\n",
    "        # Controleer of er een weg van het type 'primary' of 'trunk' aansluit op de node\n",
    "        if data.get('highway') in ['primary', 'trunk']:\n",
    "            primary_found = True\n",
    "        # Controleer of er een weg van het type 'tertiary' aansluit op de node\n",
    "        elif data.get('highway') == 'tertiary':\n",
    "            tertiary_found = True\n",
    "\n",
    "    # Voeg de node toe aan de lijst als zowel een 'primary' of 'trunk' weg als een 'tertiary' weg aansluiten en er een verkeerslicht op de node is\n",
    "    if primary_found and tertiary_found and node in trafficlights:\n",
    "        primarytertiary_trafficlight_nodes.append(node)\n",
    "\n",
    "# Verwijder duplicaten uit de lijst\n",
    "primarytertiary_trafficlight_nodes = list(set(primarytertiary_trafficlight_nodes))\n",
    "print(\"Nodes waar zowel 'primary' of 'trunk' als 'tertiary' wegen samenkomen en waarop een verkeerslicht staat:\", primarytertiary_trafficlight_nodes)\n",
    "print('Het zijn er', len(primarytertiary_trafficlight_nodes))"
   ],
   "metadata": {
    "collapsed": false,
    "ExecuteTime": {
     "end_time": "2024-06-20T16:02:26.947110Z",
     "start_time": "2024-06-20T16:02:26.365567100Z"
    }
   }
  },
  {
   "cell_type": "code",
   "execution_count": 118,
   "outputs": [
    {
     "name": "stdout",
     "output_type": "stream",
     "text": [
      "Nodes waar zowel 'residential' als 'primary' wegen samenkomen en waarop een verkeerslicht staat: [44257414, 670854663, 670854667, 791142546, 44259091, 1456279827, 44238077, 5313486109, 44262688, 10703013793, 1434991140, 44269104, 1612095282, 44256947, 44263479, 670854718, 4889760069, 44252488, 4718179285, 44244071, 44390125, 44268910, 44378360, 44265337, 1027273341, 44238079]\n",
      "Het zijn er 26\n"
     ]
    }
   ],
   "source": [
    "primaryresidential_trafficlight_nodes = []\n",
    "\n",
    "# Loop door elke node in de grafiek\n",
    "for node in G_notsimplified.nodes():\n",
    "    residential_found = False\n",
    "    primary_found = False\n",
    "\n",
    "    # Loop door alle buren van de huidige node\n",
    "    for _, _, data in G_notsimplified.edges(node, data=True):\n",
    "        # Controleer of er een weg van het type 'residential' aansluit op de node\n",
    "        if data.get('highway') == 'residential':\n",
    "            residential_found = True\n",
    "        # Controleer of er een weg van het type 'tertiary' aansluit op de node\n",
    "        elif data.get('highway') == 'primary':\n",
    "            primary_found = True\n",
    "\n",
    "    # Voeg de node toe aan de lijst als zowel een 'residential' weg als een 'tertiary' weg aansluiten en er een verkeerslicht op de node is\n",
    "    if residential_found and primary_found and node in trafficlights:\n",
    "        primaryresidential_trafficlight_nodes.append(node)\n",
    "\n",
    "# Verwijder duplicaten uit de lijst\n",
    "primaryresidential_trafficlight_nodes = list(set(primaryresidential_trafficlight_nodes))\n",
    "print(\"Nodes waar zowel 'residential' als 'primary' wegen samenkomen en waarop een verkeerslicht staat:\", primaryresidential_trafficlight_nodes)\n",
    "print('Het zijn er', len(primaryresidential_trafficlight_nodes))"
   ],
   "metadata": {
    "collapsed": false,
    "ExecuteTime": {
     "end_time": "2024-06-20T16:02:27.501872300Z",
     "start_time": "2024-06-20T16:02:26.962071900Z"
    }
   }
  },
  {
   "cell_type": "markdown",
   "source": [
    "With tram"
   ],
   "metadata": {
    "collapsed": false
   }
  },
  {
   "cell_type": "code",
   "execution_count": 119,
   "outputs": [],
   "source": [
    "useful_tags_path = ['bridge', 'tunnel', 'oneway', 'lanes', 'ref', 'name', 'length',\n",
    "                    'highway', 'maxspeed', 'service', 'access', 'area', 'name',\n",
    "                    'landuse', 'width', 'est_width', 'junction', 'surface',\n",
    "                    'traffic_signals', 'crossing', 'railway',\n",
    "                    'railway=tram', 'tram=yes', 'tram:lanes=*',\n",
    "                    'highway=busway']\n",
    "\n",
    "\n",
    "ox.settings.useful_tags_way=useful_tags_path\n",
    "\n",
    "def generate_tramnetwork():\n",
    "\n",
    "    \"\"\"\n",
    "    Load a network from OSMNX which will be used for the simulation runs. The generated network is from Rotterdam.\n",
    "    Returns\n",
    "    -------\n",
    "    G: network MultiGraph\n",
    "        Network Graph with different attributes:\n",
    "            Nodes and Edges with LineString with coordinates,\n",
    "            Edges have properties Speed, Travel time, Length.\n",
    "\n",
    "    \"\"\"\n",
    "    lonlat=     'Netherlands'                                 #coordinates of the city centre of Rotterdam\n",
    "    roadtype=   \"drive\"                                     #select only roads which are driveable by the car.\n",
    "\n",
    "    railway_filter = '[\"railway\"~\"tram\"]'\n",
    "\n",
    "\n",
    "    ox.settings.log_console=True\n",
    "    ox.settings.use_cache=True\n",
    "    # ox.config(use_cache=True, log_console=True)\n",
    "\n",
    "    # download street network data from OSM and construct a MultiDiGraph model\n",
    "    T = ox.graph_from_address('Rotterdam, Netherlands', dist=8000, simplify=True, custom_filter=railway_filter)\n",
    "\n",
    "\n",
    "    return T"
   ],
   "metadata": {
    "collapsed": false,
    "ExecuteTime": {
     "end_time": "2024-06-20T16:02:27.516832400Z",
     "start_time": "2024-06-20T16:02:27.504864500Z"
    }
   }
  },
  {
   "cell_type": "code",
   "execution_count": 120,
   "outputs": [],
   "source": [
    "T=generate_tramnetwork()"
   ],
   "metadata": {
    "collapsed": false,
    "ExecuteTime": {
     "end_time": "2024-06-20T16:02:29.494669200Z",
     "start_time": "2024-06-20T16:02:27.517830200Z"
    }
   }
  },
  {
   "cell_type": "code",
   "execution_count": 121,
   "outputs": [],
   "source": [
    "# #Tramlijnen tekenen\n",
    "fig, ax = ox.plot_graph(\n",
    "   T, bgcolor=\"white\", node_color=\"lightgray\", node_size=1, edge_linewidth=1, edge_color=\"lightgray\",\n",
    "   save=False)"
   ],
   "metadata": {
    "collapsed": false,
    "ExecuteTime": {
     "end_time": "2024-06-20T16:02:29.510626600Z",
     "start_time": "2024-06-20T16:02:29.495666500Z"
    }
   }
  },
  {
   "cell_type": "code",
   "execution_count": 122,
   "outputs": [],
   "source": [
    "def get_node_coordinates(graph):\n",
    "    coordinates = []\n",
    "    for node, data in graph.nodes(data=True):\n",
    "        coord = (data['y'], data['x'])\n",
    "        coordinates.append(coord)\n",
    "    return coordinates\n",
    "\n",
    "node_coordinates = get_node_coordinates(T)\n",
    "\n",
    "tram_nodes = []\n",
    "for coord in node_coordinates:\n",
    "    nearest_node = ox.nearest_nodes(G, coord[1], coord[0])\n",
    "    tram_nodes.append(nearest_node)"
   ],
   "metadata": {
    "collapsed": false,
    "ExecuteTime": {
     "end_time": "2024-06-20T16:02:59.991969600Z",
     "start_time": "2024-06-20T16:02:29.513619Z"
    }
   }
  },
  {
   "cell_type": "code",
   "execution_count": 123,
   "outputs": [],
   "source": [
    "intersection_with_tram = []\n",
    "for node in tram_nodes:\n",
    "    if node in trafficlights:\n",
    "        intersection_with_tram.append(node)\n",
    "#intersection_with_tram"
   ],
   "metadata": {
    "collapsed": false,
    "ExecuteTime": {
     "end_time": "2024-06-20T16:03:00.008612200Z",
     "start_time": "2024-06-20T16:02:59.992968300Z"
    }
   }
  },
  {
   "cell_type": "code",
   "execution_count": 124,
   "outputs": [],
   "source": [
    "with open(f'./model_elements/intersection_withtram.pkl', 'wb') as f:\n",
    "    pickle.dump(intersection_with_tram, f)"
   ],
   "metadata": {
    "collapsed": false,
    "ExecuteTime": {
     "end_time": "2024-06-20T16:03:00.026087700Z",
     "start_time": "2024-06-20T16:03:00.010611500Z"
    }
   }
  },
  {
   "cell_type": "markdown",
   "source": [
    "Green Wave"
   ],
   "metadata": {
    "collapsed": false
   }
  },
  {
   "cell_type": "code",
   "execution_count": 126,
   "outputs": [
    {
     "name": "stdout",
     "output_type": "stream",
     "text": [
      "[1435028993, 1027160451, 44344079, 44152359, 44492717, 4541858605, 1027160502, 44496951, 1687745613, 44374993, 44495574, 1465648217, 582730460, 44341341, 582730470, 582730483]\n"
     ]
    }
   ],
   "source": [
    "traffic_lights_within_150m = []\n",
    "\n",
    "# Itereer over elk paar stoplichten en controleer of er een kort pad is binnen 150 meter\n",
    "for source in primary_trafficlight_nodes or primarysecondary_trafficlight_nodes or primarytertiary_trafficlight_nodes or primaryresidential_trafficlight_nodes:\n",
    "    for target in primary_trafficlight_nodes or primarysecondary_trafficlight_nodes or primarytertiary_trafficlight_nodes or primaryresidential_trafficlight_nodes:\n",
    "        if source != target and nx.has_path(G, source=source, target=target):\n",
    "            path_length = nx.shortest_path_length(G, source=source, target=target, weight='length')\n",
    "            if path_length < 150:\n",
    "                traffic_lights_within_150m.append(source)\n",
    "                break  # Omdat we alleen willen weten of er een kort pad is, kunnen we stoppen met zoeken naar andere stoplichten\n",
    "\n",
    "print(traffic_lights_within_150m)"
   ],
   "metadata": {
    "collapsed": false,
    "ExecuteTime": {
     "end_time": "2024-06-20T16:03:26.094060400Z",
     "start_time": "2024-06-20T16:03:00.058003Z"
    }
   }
  },
  {
   "cell_type": "code",
   "execution_count": 127,
   "outputs": [],
   "source": [
    "with open(f'./model_elements/green_wave.pkl', 'wb') as f:\n",
    "    pickle.dump(traffic_lights_within_150m, f)"
   ],
   "metadata": {
    "collapsed": false,
    "ExecuteTime": {
     "end_time": "2024-06-20T16:03:26.143548100Z",
     "start_time": "2024-06-20T16:03:26.095057900Z"
    }
   }
  },
  {
   "cell_type": "code",
   "execution_count": 128,
   "outputs": [
    {
     "name": "stdout",
     "output_type": "stream",
     "text": [
      "greenwave road [[582730483, 44341341], [44341341, 1435028993], [1435028993, 44344079], [582730470, 582730460], [582730460, 582730483]]\n",
      "cross road [[44151553, 44152359], [1027160420, 1027160451], [3665848146, 1687745613], [44293929, 1465648217], [44335894, 582730483], [610226818, 582730470], [44397464, 44374993], [44484007, 4541858605], [610226815, 582730460], [1352714332, 44496951], [1434991598, 44492717]]\n"
     ]
    }
   ],
   "source": [
    "green_wave_road = []\n",
    "cross_green_wave_road = []\n",
    "for u,v,data in G.edges(data=True):\n",
    "    if 'highway' in data.keys():\n",
    "        if data['highway']=='primary' or data['highway']=='trunk':\n",
    "            if u in traffic_lights_within_150m and v in traffic_lights_within_150m:\n",
    "                green_wave_road.append([u,v])\n",
    "        elif v in traffic_lights_within_150m:\n",
    "            cross_green_wave_road.append([u,v])\n",
    "\n",
    "print('greenwave road', green_wave_road)\n",
    "print('cross road', cross_green_wave_road)"
   ],
   "metadata": {
    "collapsed": false,
    "ExecuteTime": {
     "end_time": "2024-06-20T16:03:26.160469300Z",
     "start_time": "2024-06-20T16:03:26.111599500Z"
    }
   }
  },
  {
   "cell_type": "code",
   "execution_count": 129,
   "outputs": [],
   "source": [
    "with open(f'./model_elements/green_wave_road.pkl', 'wb') as f:\n",
    "    pickle.dump(green_wave_road, f)\n",
    "\n",
    "with open(f'./model_elements/cross_green_wave_road.pkl', 'wb') as f:\n",
    "    pickle.dump(cross_green_wave_road, f)"
   ],
   "metadata": {
    "collapsed": false,
    "ExecuteTime": {
     "end_time": "2024-06-20T16:03:26.210843100Z",
     "start_time": "2024-06-20T16:03:26.158472700Z"
    }
   }
  },
  {
   "cell_type": "markdown",
   "source": [
    "Default category"
   ],
   "metadata": {
    "collapsed": false
   }
  },
  {
   "cell_type": "code",
   "execution_count": 130,
   "outputs": [],
   "source": [
    "default = []\n",
    "\n",
    "for node in trafficlights:\n",
    "    # Controleer of de node niet in een van de andere lijsten zit\n",
    "    if node not in intersection_with_tram and node not in traffic_lights_within_150m:\n",
    "        default.append(node)\n",
    "\n",
    "with open(f'./model_elements/default.pkl', 'wb') as f:\n",
    "    pickle.dump(default, f)\n"
   ],
   "metadata": {
    "collapsed": false,
    "ExecuteTime": {
     "end_time": "2024-06-20T16:03:26.222812700Z",
     "start_time": "2024-06-20T16:03:26.174434700Z"
    }
   }
  },
  {
   "cell_type": "code",
   "execution_count": 131,
   "outputs": [
    {
     "name": "stdout",
     "output_type": "stream",
     "text": [
      "{1030572746: 'intersection_with_tram', 1445795627: 'intersection_with_tram', 1426610337: 'intersection_with_tram', 597440929: 'intersection_with_tram', 603233348: 'intersection_with_tram', 44326564: 'intersection_with_tram', 558864428: 'intersection_with_tram', 44378905: 'intersection_with_tram', 582730470: 'green_wave', 1435028993: 'green_wave', 44342670: 'intersection_with_tram', 44341341: 'green_wave', 1426610335: 'intersection_with_tram', 44225957: 'intersection_with_tram', 1435580552: 'intersection_with_tram', 582611814: 'intersection_with_tram', 6486507707: 'intersection_with_tram', 322070776: 'intersection_with_tram', 11834957298: 'intersection_with_tram', 2462046181: 'intersection_with_tram', 322058115: 'intersection_with_tram', 1687745613: 'green_wave', 1612095282: 'intersection_with_tram', 1435580729: 'intersection_with_tram', 558864300: 'intersection_with_tram', 44411338: 'intersection_with_tram', 4691536387: 'intersection_with_tram', 6907592168: 'intersection_with_tram', 44418714: 'intersection_with_tram', 44419497: 'intersection_with_tram', 44420018: 'intersection_with_tram', 44421510: 'intersection_with_tram', 44422010: 'intersection_with_tram', 1435580606: 'intersection_with_tram', 6238815736: 'intersection_with_tram', 44389601: 'intersection_with_tram', 6238815739: 'intersection_with_tram', 579984362: 'intersection_with_tram', 44404046: 'intersection_with_tram', 767400229: 'intersection_with_tram', 6485776084: 'intersection_with_tram', 44422481: 'intersection_with_tram', 44439262: 'intersection_with_tram', 6486363546: 'intersection_with_tram', 6486363549: 'intersection_with_tram', 44429974: 'intersection_with_tram', 2732598778: 'intersection_with_tram', 1435580921: 'intersection_with_tram', 2748037905: 'intersection_with_tram', 44440684: 'intersection_with_tram', 2768049183: 'intersection_with_tram', 44364908: 'intersection_with_tram', 44365865: 'intersection_with_tram', 44311061: 'intersection_with_tram', 1426610336: 'intersection_with_tram', 1435580676: 'intersection_with_tram', 44263672: 'intersection_with_tram', 6318007965: 'intersection_with_tram', 6486683953: 'intersection_with_tram', 2768049149: 'intersection_with_tram', 1964247501: 'intersection_with_tram', 771151043: 'intersection_with_tram', 1435580711: 'intersection_with_tram', 1555848129: 'intersection_with_tram', 44135503: 'default', 44139878: 'default', 44145647: 'default', 44147496: 'default', 44148222: 'default', 44149342: 'default', 44153108: 'default', 44153532: 'default', 44154345: 'default', 44156136: 'default', 44156963: 'default', 44157420: 'default', 44157461: 'default', 44162171: 'default', 44162790: 'default', 44167347: 'default', 44171879: 'default', 44173140: 'default', 44174485: 'default', 44175317: 'default', 44179006: 'default', 44181821: 'default', 44183994: 'default', 44185527: 'default', 44185548: 'default', 44187119: 'default', 44190704: 'default', 44192218: 'default', 44192610: 'default', 44192667: 'default', 44193565: 'default', 44193942: 'default', 44193977: 'default', 44195532: 'default', 44195535: 'default', 44195979: 'default', 44196297: 'default', 44196384: 'default', 44196895: 'default', 44198923: 'default', 44199967: 'default', 44201514: 'default', 44201522: 'default', 44202630: 'default', 44212015: 'default', 44212814: 'default', 44215098: 'default', 44215099: 'default', 44216586: 'default', 44217039: 'default', 44218065: 'default', 44219936: 'default', 44220043: 'default', 44224352: 'default', 44226441: 'default', 44227367: 'default', 44231568: 'default', 44233212: 'default', 44233216: 'default', 44234790: 'default', 44235360: 'default', 44238077: 'default', 44238079: 'default', 44239996: 'default', 44244071: 'default', 44245878: 'default', 44252488: 'default', 44254956: 'default', 44256947: 'default', 44257407: 'default', 44257414: 'default', 44257966: 'default', 44259091: 'default', 44259096: 'default', 44259645: 'default', 44259648: 'default', 44260650: 'default', 44262177: 'default', 44262196: 'default', 44262670: 'default', 44262688: 'default', 44263479: 'default', 44264180: 'default', 44265337: 'default', 44265877: 'default', 44265885: 'default', 44266457: 'default', 44268910: 'default', 44269104: 'default', 44271091: 'default', 44271608: 'default', 44273038: 'default', 44277437: 'default', 44278312: 'default', 44278333: 'default', 44280779: 'default', 44281146: 'default', 44281591: 'default', 44282082: 'default', 44284840: 'default', 44285699: 'default', 44289139: 'default', 44290473: 'default', 44291181: 'default', 44291396: 'default', 44293929: 'default', 44294838: 'default', 44299020: 'default', 44306489: 'default', 44306912: 'default', 44310675: 'default', 44315748: 'default', 44319252: 'default', 44320025: 'default', 44320454: 'default', 44323427: 'default', 44324010: 'default', 44324053: 'default', 44324603: 'default', 44324605: 'default', 44326992: 'default', 44330784: 'default', 44331018: 'default', 44333072: 'default', 44333318: 'default', 44333781: 'default', 44335894: 'default', 44336992: 'default', 44341727: 'default', 44342211: 'default', 44342667: 'default', 44346094: 'default', 44347131: 'default', 44349404: 'default', 44355197: 'default', 44365384: 'default', 44365387: 'default', 44366360: 'default', 44366361: 'default', 44366722: 'default', 44368225: 'default', 44368295: 'default', 44370966: 'default', 44371416: 'default', 44371435: 'default', 44371781: 'default', 44372019: 'default', 44372815: 'default', 44377358: 'default', 44378360: 'default', 44378898: 'default', 44379364: 'default', 44380793: 'default', 44381267: 'default', 44381794: 'default', 44383118: 'default', 44383961: 'default', 44385714: 'default', 44387508: 'default', 44390115: 'default', 44390125: 'default', 44390388: 'default', 44391752: 'default', 44392671: 'default', 44393621: 'default', 44394053: 'default', 44395387: 'default', 44398667: 'default', 44399093: 'default', 44399095: 'default', 44399527: 'default', 44400498: 'default', 44400916: 'default', 44402557: 'default', 44403542: 'default', 44404011: 'default', 44404060: 'default', 44404063: 'default', 44406507: 'default', 44407019: 'default', 44407021: 'default', 44407731: 'default', 44409850: 'default', 44410336: 'default', 44412311: 'default', 44412909: 'default', 44413417: 'default', 44416044: 'default', 44421513: 'default', 44423859: 'default', 44424861: 'default', 44425278: 'default', 44425313: 'default', 44425317: 'default', 44425706: 'default', 44425711: 'default', 44425745: 'default', 44425978: 'default', 44426381: 'default', 44427967: 'default', 44430877: 'default', 44431750: 'default', 44432188: 'default', 44433317: 'default', 44433670: 'default', 44433779: 'default', 44434252: 'default', 44436709: 'default', 44436775: 'default', 44437248: 'default', 44440185: 'default', 44442691: 'default', 44444748: 'default', 44448301: 'default', 44448821: 'default', 44449954: 'default', 44451670: 'default', 44453663: 'default', 44461740: 'default', 44473144: 'default', 44474847: 'default', 44476786: 'default', 44480333: 'default', 44481382: 'default', 44483818: 'default', 44484025: 'default', 44493654: 'default', 44493688: 'default', 44495052: 'default', 44504991: 'default', 44505044: 'default', 44506088: 'default', 44516893: 'default', 44518932: 'default', 44526773: 'default', 44527121: 'default', 44527885: 'default', 44528161: 'default', 44529099: 'default', 44531003: 'default', 44534208: 'default', 44537848: 'default', 44541183: 'default', 44541184: 'default', 44541986: 'default', 44542236: 'default', 44546159: 'default', 44546173: 'default', 44546770: 'default', 44548375: 'default', 44548838: 'default', 44548878: 'default', 44549386: 'default', 44549387: 'default', 44549996: 'default', 44551567: 'default', 44552000: 'default', 44552192: 'default', 44564363: 'default', 44569355: 'default', 44569612: 'default', 44578565: 'default', 44581716: 'default', 44585675: 'default', 44586042: 'default', 44596978: 'default', 44598223: 'default', 44598224: 'default', 44603541: 'default', 44604082: 'default', 44613350: 'default', 44614616: 'default', 44630195: 'default', 44637590: 'default', 44648481: 'default', 44666153: 'default', 44716505: 'default', 266756597: 'default', 289070523: 'default', 300733671: 'default', 300733814: 'default', 307156957: 'default', 311863592: 'default', 312642167: 'default', 312826630: 'default', 322058107: 'default', 322906357: 'default', 323145237: 'default', 323145297: 'default', 330658071: 'default', 330679498: 'default', 331166811: 'default', 336410085: 'default', 336410133: 'default', 355132238: 'default', 449019856: 'default', 549941335: 'default', 558861110: 'default', 576339795: 'default', 581886990: 'default', 582730459: 'default', 598621064: 'default', 602273101: 'default', 602273128: 'default', 602273136: 'default', 602273208: 'default', 602273209: 'default', 602273346: 'default', 602273358: 'default', 602273411: 'default', 602279360: 'default', 602488390: 'default', 602488402: 'default', 603161587: 'default', 603233386: 'default', 603315964: 'default', 603623370: 'default', 604970657: 'default', 610226818: 'default', 610526182: 'default', 610526750: 'default', 611277444: 'default', 611765822: 'default', 612933648: 'default', 613527966: 'default', 614678507: 'default', 614678773: 'default', 614678833: 'default', 614879616: 'default', 614885013: 'default', 614974752: 'default', 614974777: 'default', 618745106: 'default', 618745117: 'default', 618745125: 'default', 618745128: 'default', 618745255: 'default', 621460308: 'default', 622670751: 'default', 622670754: 'default', 622670844: 'default', 622670888: 'default', 622670890: 'default', 622670897: 'default', 622670901: 'default', 622670909: 'default', 622670938: 'default', 622670948: 'default', 622670951: 'default', 622670976: 'default', 652745185: 'default', 652745196: 'default', 652745202: 'default', 659786545: 'default', 663256777: 'default', 670854663: 'default', 670854667: 'default', 670854718: 'default', 670854737: 'default', 670854762: 'default', 673557825: 'default', 678461320: 'default', 678516286: 'default', 678516294: 'default', 678549416: 'default', 678549432: 'default', 678549433: 'default', 678549436: 'default', 678570922: 'default', 680202405: 'default', 726798762: 'default', 726798962: 'default', 726833427: 'default', 735554297: 'default', 735555481: 'default', 735629205: 'default', 735629288: 'default', 735733381: 'default', 736825314: 'default', 736865364: 'default', 736979959: 'default', 738679425: 'default', 745637796: 'default', 745638116: 'default', 745710904: 'default', 745710965: 'default', 745722541: 'default', 745765622: 'default', 745765801: 'default', 745765997: 'default', 745766070: 'default', 757445509: 'default', 759533490: 'default', 759534697: 'default', 759534811: 'default', 759534852: 'default', 759534896: 'default', 759534906: 'default', 759535257: 'default', 759755790: 'default', 759981993: 'default', 768903396: 'default', 768930371: 'default', 768930412: 'default', 768935955: 'default', 768935962: 'default', 768935963: 'default', 768935970: 'default', 768935973: 'default', 768935989: 'default', 770739582: 'default', 770813943: 'default', 770813944: 'default', 771151547: 'default', 771151687: 'default', 771254275: 'default', 771254404: 'default', 771254444: 'default', 771254445: 'default', 771254498: 'default', 771254500: 'default', 771254503: 'default', 771254622: 'default', 771254627: 'default', 777332273: 'default', 777333095: 'default', 777382541: 'default', 791142546: 'default', 791148827: 'default', 800456387: 'default', 807777004: 'default', 847561819: 'default', 847561821: 'default', 848723461: 'default', 868293638: 'default', 868293639: 'default', 868673406: 'default', 886037909: 'default', 902882953: 'default', 929147304: 'default', 963722400: 'default', 963722409: 'default', 963722417: 'default', 963722429: 'default', 963806523: 'default', 963806528: 'default', 974083128: 'default', 974091166: 'default', 987492067: 'default', 987492075: 'default', 987492137: 'default', 988627239: 'default', 1027106635: 'default', 1027106727: 'default', 1027107003: 'default', 1027160420: 'default', 1027160470: 'default', 1027160486: 'default', 1027231640: 'default', 1027273198: 'default', 1027273237: 'default', 1027273341: 'default', 1027273372: 'default', 1030275064: 'default', 1036148745: 'default', 1039323369: 'default', 1039323414: 'default', 1067714211: 'default', 1231049056: 'default', 1244294529: 'default', 1367194730: 'default', 1367194750: 'default', 1372468531: 'default', 1377099278: 'default', 1396123234: 'default', 1402598708: 'default', 1403932146: 'default', 1404073808: 'default', 1419555387: 'default', 1426610333: 'default', 1426610341: 'default', 1426610346: 'default', 1433961962: 'default', 1433962025: 'default', 1433962026: 'default', 1433962105: 'default', 1434870237: 'default', 1434870238: 'default', 1434930131: 'default', 1434930157: 'default', 1434990990: 'default', 1434991140: 'default', 1434991588: 'default', 1434991594: 'default', 1434991598: 'default', 1435579996: 'default', 1435580756: 'default', 1435580861: 'default', 1435580933: 'default', 1435580973: 'default', 1435580997: 'default', 1435581022: 'default', 1435581024: 'default', 1435581028: 'default', 1435581036: 'default', 1436972667: 'default', 1444912404: 'default', 1445365071: 'default', 1445372610: 'default', 1447499932: 'default', 1447499948: 'default', 1456279827: 'default', 1464040444: 'default', 1464040471: 'default', 1552938901: 'default', 1555848111: 'default', 1555848155: 'default', 1559839176: 'default', 1560737686: 'default', 1584766849: 'default', 1585674023: 'default', 1611090370: 'default', 1634388505: 'default', 1635147235: 'default', 1643679970: 'default', 1685004034: 'default', 1721153936: 'default', 1721153959: 'default', 1722358665: 'default', 1722358668: 'default', 1737484856: 'default', 1816130514: 'default', 1950361801: 'default', 1951440785: 'default', 2003491526: 'default', 2018938752: 'default', 2032395642: 'default', 2098302898: 'default', 2098302906: 'default', 2098302915: 'default', 2098302920: 'default', 2098302940: 'default', 2192630599: 'default', 2192630674: 'default', 2321497452: 'default', 2405922582: 'default', 2511182477: 'default', 2511182490: 'default', 2511182502: 'default', 2511182513: 'default', 2511182520: 'default', 2511182525: 'default', 2522724765: 'default', 2522724766: 'default', 2524207010: 'default', 2725735826: 'default', 2725777368: 'default', 2736170460: 'default', 2736170477: 'default', 2736170484: 'default', 2736346293: 'default', 2736939745: 'default', 2737109340: 'default', 2737109343: 'default', 2784433793: 'default', 3211575575: 'default', 3428185955: 'default', 3428185957: 'default', 3428185961: 'default', 3428185965: 'default', 3479454458: 'default', 3479454462: 'default', 3563125232: 'default', 3563125249: 'default', 3563125250: 'default', 3577496039: 'default', 3577496040: 'default', 3647991524: 'default', 3730829929: 'default', 4005522455: 'default', 4170297486: 'default', 4237350570: 'default', 4247298061: 'default', 4247298063: 'default', 4247298064: 'default', 4318718488: 'default', 4318719190: 'default', 4336525732: 'default', 4524908035: 'default', 4541639654: 'default', 4574586198: 'default', 4609552133: 'default', 4718179285: 'default', 4809460411: 'default', 4818915358: 'default', 4859354773: 'default', 4870727158: 'default', 4870727163: 'default', 4889760069: 'default', 4889760117: 'default', 4893350854: 'default', 4893350894: 'default', 4893441379: 'default', 4893441413: 'default', 4946874501: 'default', 4946874506: 'default', 4987284705: 'default', 5060770537: 'default', 5252984620: 'default', 5268787171: 'default', 5268787177: 'default', 5268881568: 'default', 5313486109: 'default', 5313487237: 'default', 5349536757: 'default', 5349536761: 'default', 5350667063: 'default', 5355485073: 'default', 5383813824: 'default', 5491446369: 'default', 5491450127: 'default', 5735388149: 'default', 5993450543: 'default', 5995593745: 'default', 5995593749: 'default', 6070795642: 'default', 6199943135: 'default', 6238815741: 'default', 6238815745: 'default', 6238824713: 'default', 6238824717: 'default', 6318429097: 'default', 6318429105: 'default', 6486507702: 'default', 6486513550: 'default', 6486555637: 'default', 6486643748: 'default', 6486666542: 'default', 6486666543: 'default', 6502645943: 'default', 6539124641: 'default', 6597699512: 'default', 6602973694: 'default', 6798435628: 'default', 6807700640: 'default', 6807700641: 'default', 6807710951: 'default', 6807715486: 'default', 6930114225: 'default', 7285397421: 'default', 7689520767: 'default', 8089743132: 'default', 8096953786: 'default', 8189041810: 'default', 8658793109: 'default', 8792582879: 'default', 8792582882: 'default', 8792582884: 'default', 9229863906: 'default', 9402428446: 'default', 9492712545: 'default', 9492757051: 'default', 9492757062: 'default', 9813354627: 'default', 9865762455: 'default', 10152931428: 'default', 10703013793: 'default', 10734992621: 'default', 10800414846: 'default', 10839235324: 'default', 11230982533: 'default', 11230989181: 'default', 11231001237: 'default', 11231033277: 'default', 11571220975: 'default', 11738660912: 'default', 11775717903: 'default', 11809547431: 'default', 1027160451: 'green_wave', 44344079: 'green_wave', 44152359: 'green_wave', 44492717: 'green_wave', 4541858605: 'green_wave', 1027160502: 'green_wave', 44496951: 'green_wave', 44374993: 'green_wave', 44495574: 'green_wave', 1465648217: 'green_wave', 582730460: 'green_wave', 582730483: 'green_wave'}\n"
     ]
    }
   ],
   "source": [
    "traffic_light_categories = {}\n",
    "\n",
    "def add_nodes_to_dict(nodes, list_name):\n",
    "    for node in nodes:\n",
    "        if isinstance(node, (str, int, float, tuple, int, np.integer)):\n",
    "            traffic_light_categories[node] = list_name\n",
    "        elif isinstance(node, list) and all(isinstance(item, (str, int, float, tuple, np.integer)) for item in node):\n",
    "            traffic_light_categories[tuple(node)] = list_name\n",
    "        else:\n",
    "            print(f\"Skipping invalid node {node} in list {list_name}, type {type(node)}\")\n",
    "\n",
    "add_nodes_to_dict(intersection_with_tram, 'intersection_with_tram')\n",
    "add_nodes_to_dict(default, 'default')\n",
    "add_nodes_to_dict(traffic_lights_within_150m, 'green_wave')\n",
    "# add_nodes_to_dict(cross_green_wave_road, 'cross_green_wave')\n",
    "# add_nodes_to_dict(green_wave_road, 'green_wave')\n",
    "\n",
    "print(traffic_light_categories)\n",
    "with open(f'./model_elements/traffic_light_categories.pkl', 'wb') as f:\n",
    "    pickle.dump(traffic_light_categories, f)"
   ],
   "metadata": {
    "collapsed": false,
    "ExecuteTime": {
     "end_time": "2024-06-20T16:03:26.284647600Z",
     "start_time": "2024-06-20T16:03:26.224820500Z"
    }
   }
  },
  {
   "cell_type": "code",
   "execution_count": 10,
   "outputs": [
    {
     "data": {
      "text/plain": "<Figure size 720x432 with 1 Axes>",
      "image/png": "[encoded data removed]"
     },
     "metadata": {
      "needs_background": "light"
     },
     "output_type": "display_data"
    }
   ],
   "source": [
    "import pickle\n",
    "import numpy as np\n",
    "\n",
    "with open(f'results/wait_time_list_hot.pkl', 'rb') as f:\n",
    "    processing_times = pickle.load(f)\n",
    "\n",
    "# Define the number of bins for the histogram\n",
    "num_bins = 10\n",
    "\n",
    "# Create the histogram\n",
    "counts, bin_edges = np.histogram(processing_times, bins=num_bins)\n",
    "\n",
    "# Calculate the bin centers\n",
    "bin_centers = (bin_edges[:-1] + bin_edges[1:]) / 2\n",
    "\n",
    "# Plotting\n",
    "plt.figure(figsize=(10, 6))\n",
    "plt.plot(bin_centers, counts, marker='o', linestyle='-', color='b')\n",
    "plt.title('Frequency of Processing Times')\n",
    "plt.xlabel('Processing Time')\n",
    "plt.ylabel('Frequency')\n",
    "plt.grid(True)\n",
    "plt.show()"
   ],
   "metadata": {
    "collapsed": false,
    "ExecuteTime": {
     "end_time": "2024-07-01T10:59:22.320484100Z",
     "start_time": "2024-07-01T10:59:22.154891700Z"
    }
   }
  }
 ],
 "metadata": {
  "kernelspec": {
   "display_name": "Python 3",
   "language": "python",
   "name": "python3"
  },
  "language_info": {
   "codemirror_mode": {
    "name": "ipython",
    "version": 2
   },
   "file_extension": ".py",
   "mimetype": "text/x-python",
   "name": "python",
   "nbconvert_exporter": "python",
   "pygments_lexer": "ipython2",
   "version": "2.7.6"
  }
 },
 "nbformat": 4,
 "nbformat_minor": 5
}
